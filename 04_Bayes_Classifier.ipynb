{
 "cells": [
  {
   "cell_type": "code",
   "execution_count": 1,
   "id": "3856062f",
   "metadata": {},
   "outputs": [],
   "source": [
    "from os import walk \n",
    "from os.path import join\n",
    "import pandas as pd \n",
    "import matplotlib.pyplot as plt\n",
    "import numpy as np \n",
    "\n",
    "import nltk \n",
    "from nltk.stem import PorterStemmer\n",
    "from nltk.stem import SnowballStemmer\n",
    "from nltk.corpus import stopwords \n",
    "from nltk.tokenize import word_tokenize\n",
    "from bs4 import BeautifulSoup\n",
    "from wordcloud import WordCloud\n",
    "from PIL import Image\n",
    "\n",
    "from sklearn.model_selection import train_test_split\n",
    "\n",
    "%matplotlib inline"
   ]
  },
  {
   "cell_type": "code",
   "execution_count": 2,
   "id": "7b0a720f",
   "metadata": {},
   "outputs": [
    {
     "name": "stdout",
     "output_type": "stream",
     "text": [
      "C:\\Users\\HP\\anaconda3\\python.exe\n"
     ]
    }
   ],
   "source": [
    "import sys\n",
    "print(sys.executable)"
   ]
  },
  {
   "cell_type": "code",
   "execution_count": 3,
   "id": "2d0914cc",
   "metadata": {},
   "outputs": [],
   "source": [
    "eg = \"./01_Processing/practice_email.txt\"\n",
    "PATH1 = './01_Processing/spam_assassin_corpus/spam_1'\n",
    "PATH2 = './01_Processing/spam_assassin_corpus/spam_2'\n",
    "PATH3 = './01_Processing/spam_assassin_corpus/easy_ham_1'\n",
    "PATH4 = './01_Processing/spam_assassin_corpus/easy_ham_2'\n",
    "DATA_JSON_FILE = './01_Processing/email-text-data.json'\n",
    "WORD_ID_FILE = './01_Processing/word-by-id.csv'\n",
    "TRAINING_DATA_FILE = './02_Training/train-data.txt'\n",
    "TEST_DATA_FILE = './03_Testing/test-data.txt'"
   ]
  },
  {
   "cell_type": "code",
   "execution_count": 4,
   "id": "12ecb22e",
   "metadata": {},
   "outputs": [
    {
     "name": "stdout",
     "output_type": "stream",
     "text": [
      "From exmh-workers-admin@redhat.com  Thu Aug 22 12:36:23 2002\n",
      "Return-Path: <exmh-workers-admin@spamassassin.taint.org>\n",
      "Delivered-To: zzzz@localhost.netnoteinc.com\n",
      "Received: from localhost (localhost [127.0.0.1])\n",
      "\tby phobos.labs.netnoteinc.com (Postfix) with ESMTP id D03E543C36\n",
      "\tfor <zzzz@localhost>; Thu, 22 Aug 2002 07:36:16 -0400 (EDT)\n",
      "Received: from phobos [127.0.0.1]\n",
      "\tby localhost with IMAP (fetchmail-5.9.0)\n",
      "\tfor zzzz@localhost (single-drop); Thu, 22 Aug 2002 12:36:16 +0100 (IST)\n",
      "Received: from listman.spamassassin.taint.org (listman.spamassassin.taint.org [66.187.233.211]) by\n",
      "    dogma.slashnull.org (8.11.6/8.11.6) with ESMTP id g7MBYrZ04811 for\n",
      "    <zzzz-exmh@spamassassin.taint.org>; Thu, 22 Aug 2002 12:34:53 +0100\n",
      "Received: from listman.spamassassin.taint.org (localhost.localdomain [127.0.0.1]) by\n",
      "    listman.redhat.com (Postfix) with ESMTP id 8386540858; Thu, 22 Aug 2002\n",
      "    07:35:02 -0400 (EDT)\n",
      "Delivered-To: exmh-workers@listman.spamassassin.taint.org\n",
      "Received: from int-mx1.corp.spamassassin.taint.org (int-mx1.corp.spamassassin.taint.org\n",
      "    [172.16.52.254]) by listman.redhat.com (Postfix) with ESMTP id 10CF8406D7\n",
      "    for <exmh-workers@listman.redhat.com>; Thu, 22 Aug 2002 07:34:10 -0400\n",
      "    (EDT)\n",
      "Received: (from mail@localhost) by int-mx1.corp.spamassassin.taint.org (8.11.6/8.11.6)\n",
      "    id g7MBY7g11259 for exmh-workers@listman.redhat.com; Thu, 22 Aug 2002\n",
      "    07:34:07 -0400\n",
      "Received: from mx1.spamassassin.taint.org (mx1.spamassassin.taint.org [172.16.48.31]) by\n",
      "    int-mx1.corp.redhat.com (8.11.6/8.11.6) with SMTP id g7MBY7Y11255 for\n",
      "    <exmh-workers@redhat.com>; Thu, 22 Aug 2002 07:34:07 -0400\n",
      "Received: from ratree.psu.ac.th ([202.28.97.6]) by mx1.spamassassin.taint.org\n",
      "    (8.11.6/8.11.6) with SMTP id g7MBIhl25223 for <exmh-workers@redhat.com>;\n",
      "    Thu, 22 Aug 2002 07:18:55 -0400\n",
      "Received: from delta.cs.mu.OZ.AU (delta.coe.psu.ac.th [172.30.0.98]) by\n",
      "    ratree.psu.ac.th (8.11.6/8.11.6) with ESMTP id g7MBWel29762;\n",
      "    Thu, 22 Aug 2002 18:32:40 +0700 (ICT)\n",
      "Received: from munnari.OZ.AU (localhost [127.0.0.1]) by delta.cs.mu.OZ.AU\n",
      "    (8.11.6/8.11.6) with ESMTP id g7MBQPW13260; Thu, 22 Aug 2002 18:26:25\n",
      "    +0700 (ICT)\n",
      "From: Robert Elz <kre@munnari.OZ.AU>\n",
      "To: Chris Garrigues <cwg-dated-1030377287.06fa6d@DeepEddy.Com>\n",
      "Cc: exmh-workers@spamassassin.taint.org\n",
      "Subject: Re: New Sequences Window\n",
      "In-Reply-To: <1029945287.4797.TMDA@deepeddy.vircio.com>\n",
      "References: <1029945287.4797.TMDA@deepeddy.vircio.com>\n",
      "    <1029882468.3116.TMDA@deepeddy.vircio.com> <9627.1029933001@munnari.OZ.AU>\n",
      "    <1029943066.26919.TMDA@deepeddy.vircio.com>\n",
      "    <1029944441.398.TMDA@deepeddy.vircio.com>\n",
      "MIME-Version: 1.0\n",
      "Content-Type: text/plain; charset=us-ascii\n",
      "Message-Id: <13258.1030015585@munnari.OZ.AU>\n",
      "X-Loop: exmh-workers@spamassassin.taint.org\n",
      "Sender: exmh-workers-admin@spamassassin.taint.org\n",
      "Errors-To: exmh-workers-admin@spamassassin.taint.org\n",
      "X-Beenthere: exmh-workers@spamassassin.taint.org\n",
      "X-Mailman-Version: 2.0.1\n",
      "Precedence: bulk\n",
      "List-Help: <mailto:exmh-workers-request@spamassassin.taint.org?subject=help>\n",
      "List-Post: <mailto:exmh-workers@spamassassin.taint.org>\n",
      "List-Subscribe: <https://listman.spamassassin.taint.org/mailman/listinfo/exmh-workers>,\n",
      "    <mailto:exmh-workers-request@redhat.com?subject=subscribe>\n",
      "List-Id: Discussion list for EXMH developers <exmh-workers.spamassassin.taint.org>\n",
      "List-Unsubscribe: <https://listman.spamassassin.taint.org/mailman/listinfo/exmh-workers>,\n",
      "    <mailto:exmh-workers-request@redhat.com?subject=unsubscribe>\n",
      "List-Archive: <https://listman.spamassassin.taint.org/mailman/private/exmh-workers/>\n",
      "Date: Thu, 22 Aug 2002 18:26:25 +0700\n",
      "\n",
      "\n",
      "Dear Mr Still\n",
      "\n",
      "Good tidings to you and all your staff for the festive season ahead (Christmas).\n",
      "Now to the crux of the matter-in-hand: I am a fully qualified Santa Claus and am wondering whether you might consider me to run my own \"Santa's Grotto\" in your store.\n",
      "But WAIT! You're probably thinking: \"What makes him so special?\"\n",
      "Well, first of all, I have made several changes to the characterisation of Father Christmas. Rather than greeting the children with shouts of \"Ho, ho, ho!\" I prefer to whisper the phrase \"Dependence is not unfathomable in this cruel world we live in\". In addition, my gifts are ALL hand-made, ranging from felt hoops to vanilla-pod holders.\n",
      "You will note also, from the enclosed sketch, that I have radically redesigned Santa's outfit and have renamed my character \"Lord Buckles\". Would you be interested in employing me? I promise NEVER to let you down.\n",
      "I look forward to hearing from you.\n",
      "\n",
      "Best wishes\n",
      "Robin Cooper\n",
      "[Excerpt from the book: The Timewaster Letters by Robin Cooper]\n",
      "\n"
     ]
    }
   ],
   "source": [
    "stream = open(eg, encoding='latin-1')\n",
    "msg = stream.read()\n",
    "stream.close()\n",
    "print(msg)"
   ]
  },
  {
   "cell_type": "code",
   "execution_count": 5,
   "id": "6ca5c3c9",
   "metadata": {},
   "outputs": [
    {
     "data": {
      "text/plain": [
       "'utf-8'"
      ]
     },
     "execution_count": 5,
     "metadata": {},
     "output_type": "execute_result"
    }
   ],
   "source": [
    "import sys \n",
    "sys.getfilesystemencoding()"
   ]
  },
  {
   "cell_type": "code",
   "execution_count": 6,
   "id": "2d32f43b",
   "metadata": {},
   "outputs": [
    {
     "name": "stdout",
     "output_type": "stream",
     "text": [
      "\n",
      "\n",
      "Dear Mr Still\n",
      "\n",
      "\n",
      "\n",
      "Good tidings to you and all your staff for the festive season ahead (Christmas).\n",
      "\n",
      "Now to the crux of the matter-in-hand: I am a fully qualified Santa Claus and am wondering whether you might consider me to run my own \"Santa's Grotto\" in your store.\n",
      "\n",
      "But WAIT! You're probably thinking: \"What makes him so special?\"\n",
      "\n",
      "Well, first of all, I have made several changes to the characterisation of Father Christmas. Rather than greeting the children with shouts of \"Ho, ho, ho!\" I prefer to whisper the phrase \"Dependence is not unfathomable in this cruel world we live in\". In addition, my gifts are ALL hand-made, ranging from felt hoops to vanilla-pod holders.\n",
      "\n",
      "You will note also, from the enclosed sketch, that I have radically redesigned Santa's outfit and have renamed my character \"Lord Buckles\". Would you be interested in employing me? I promise NEVER to let you down.\n",
      "\n",
      "I look forward to hearing from you.\n",
      "\n",
      "\n",
      "\n",
      "Best wishes\n",
      "\n",
      "Robin Cooper\n",
      "\n",
      "[Excerpt from the book: The Timewaster Letters by Robin Cooper]\n",
      "\n"
     ]
    }
   ],
   "source": [
    "stream = open(eg, encoding='latin-1')\n",
    "lines = []\n",
    "is_body = False\n",
    "for i in stream:\n",
    "    if is_body:\n",
    "        lines.append(i)\n",
    "    elif i == '\\n':\n",
    "        is_body = True\n",
    "stream.close()\n",
    "\n",
    "body = '\\n'.join(lines)\n",
    "print(body)"
   ]
  },
  {
   "cell_type": "markdown",
   "id": "da2af388",
   "metadata": {},
   "source": [
    "# Generator Function"
   ]
  },
  {
   "cell_type": "code",
   "execution_count": 7,
   "id": "699d81bd",
   "metadata": {},
   "outputs": [
    {
     "data": {
      "text/plain": [
       "<generator object gen at 0x0000023844BE36D0>"
      ]
     },
     "execution_count": 7,
     "metadata": {},
     "output_type": "execute_result"
    }
   ],
   "source": [
    "def gen(no):\n",
    "    for i in range (no):\n",
    "        yield i ** 2\n",
    "gen(5)"
   ]
  },
  {
   "cell_type": "code",
   "execution_count": 8,
   "id": "e7bb538a",
   "metadata": {},
   "outputs": [
    {
     "name": "stdout",
     "output_type": "stream",
     "text": [
      "0 1 4 9 16 "
     ]
    }
   ],
   "source": [
    "for i in gen(5):\n",
    "    print(i, end=' ')"
   ]
  },
  {
   "cell_type": "markdown",
   "id": "b247504d",
   "metadata": {},
   "source": [
    "# Email Body Extraction"
   ]
  },
  {
   "cell_type": "code",
   "execution_count": 9,
   "id": "8c24e9d5",
   "metadata": {},
   "outputs": [],
   "source": [
    "def email_body(path):\n",
    "    for root, dir, file in walk(path):\n",
    "        for name in file:\n",
    "            filepath = join(root, name)\n",
    "            stream = open(filepath, encoding='latin-1')\n",
    "            lines = []\n",
    "            is_body = False\n",
    "            for i in stream:\n",
    "                if is_body:\n",
    "                    lines.append(i)\n",
    "                elif i == '\\n':\n",
    "                    is_body = True\n",
    "            stream.close()\n",
    "\n",
    "            body = '\\n'.join(lines)\n",
    "            yield name, body"
   ]
  },
  {
   "cell_type": "code",
   "execution_count": 10,
   "id": "c4e1d48d",
   "metadata": {},
   "outputs": [],
   "source": [
    "def df_from_dir(path, classification):\n",
    "    rows = []\n",
    "    row_names = []\n",
    "    for file_name, body in email_body(path):\n",
    "        rows.append({'MESSAGE': body, 'CATEGORY': classification})\n",
    "        row_names.append(file_name)\n",
    "    return pd.DataFrame(rows, index=row_names)"
   ]
  },
  {
   "cell_type": "code",
   "execution_count": 11,
   "id": "5551dbca",
   "metadata": {},
   "outputs": [
    {
     "data": {
      "text/html": [
       "<div>\n",
       "<style scoped>\n",
       "    .dataframe tbody tr th:only-of-type {\n",
       "        vertical-align: middle;\n",
       "    }\n",
       "\n",
       "    .dataframe tbody tr th {\n",
       "        vertical-align: top;\n",
       "    }\n",
       "\n",
       "    .dataframe thead th {\n",
       "        text-align: right;\n",
       "    }\n",
       "</style>\n",
       "<table border=\"1\" class=\"dataframe\">\n",
       "  <thead>\n",
       "    <tr style=\"text-align: right;\">\n",
       "      <th></th>\n",
       "      <th>MESSAGE</th>\n",
       "      <th>CATEGORY</th>\n",
       "    </tr>\n",
       "  </thead>\n",
       "  <tbody>\n",
       "    <tr>\n",
       "      <th>00001.7848dde101aa985090474a91ec93fcf0</th>\n",
       "      <td>&lt;!DOCTYPE HTML PUBLIC \"-//W3C//DTD HTML 4.0 Tr...</td>\n",
       "      <td>1</td>\n",
       "    </tr>\n",
       "    <tr>\n",
       "      <th>00002.d94f1b97e48ed3b553b3508d116e6a09</th>\n",
       "      <td>1) Fight The Risk of Cancer!\\n\\nhttp://www.adc...</td>\n",
       "      <td>1</td>\n",
       "    </tr>\n",
       "    <tr>\n",
       "      <th>00003.2ee33bc6eacdb11f38d052c44819ba6c</th>\n",
       "      <td>1) Fight The Risk of Cancer!\\n\\nhttp://www.adc...</td>\n",
       "      <td>1</td>\n",
       "    </tr>\n",
       "    <tr>\n",
       "      <th>00004.eac8de8d759b7e74154f142194282724</th>\n",
       "      <td>##############################################...</td>\n",
       "      <td>1</td>\n",
       "    </tr>\n",
       "    <tr>\n",
       "      <th>00005.57696a39d7d84318ce497886896bf90d</th>\n",
       "      <td>I thought you might like these:\\n\\n1) Slim Dow...</td>\n",
       "      <td>1</td>\n",
       "    </tr>\n",
       "  </tbody>\n",
       "</table>\n",
       "</div>"
      ],
      "text/plain": [
       "                                                                                  MESSAGE  \\\n",
       "00001.7848dde101aa985090474a91ec93fcf0  <!DOCTYPE HTML PUBLIC \"-//W3C//DTD HTML 4.0 Tr...   \n",
       "00002.d94f1b97e48ed3b553b3508d116e6a09  1) Fight The Risk of Cancer!\\n\\nhttp://www.adc...   \n",
       "00003.2ee33bc6eacdb11f38d052c44819ba6c  1) Fight The Risk of Cancer!\\n\\nhttp://www.adc...   \n",
       "00004.eac8de8d759b7e74154f142194282724  ##############################################...   \n",
       "00005.57696a39d7d84318ce497886896bf90d  I thought you might like these:\\n\\n1) Slim Dow...   \n",
       "\n",
       "                                        CATEGORY  \n",
       "00001.7848dde101aa985090474a91ec93fcf0         1  \n",
       "00002.d94f1b97e48ed3b553b3508d116e6a09         1  \n",
       "00003.2ee33bc6eacdb11f38d052c44819ba6c         1  \n",
       "00004.eac8de8d759b7e74154f142194282724         1  \n",
       "00005.57696a39d7d84318ce497886896bf90d         1  "
      ]
     },
     "execution_count": 11,
     "metadata": {},
     "output_type": "execute_result"
    }
   ],
   "source": [
    "spam_emails = df_from_dir(PATH1, 1)\n",
    "spam_emails = spam_emails.append(df_from_dir(PATH2, 1))\n",
    "spam_emails.head()"
   ]
  },
  {
   "cell_type": "code",
   "execution_count": 12,
   "id": "2f447b54",
   "metadata": {},
   "outputs": [
    {
     "data": {
      "text/plain": [
       "(1898, 2)"
      ]
     },
     "execution_count": 12,
     "metadata": {},
     "output_type": "execute_result"
    }
   ],
   "source": [
    "spam_emails.shape"
   ]
  },
  {
   "cell_type": "code",
   "execution_count": 13,
   "id": "25a8815f",
   "metadata": {},
   "outputs": [
    {
     "data": {
      "text/plain": [
       "(3901, 2)"
      ]
     },
     "execution_count": 13,
     "metadata": {},
     "output_type": "execute_result"
    }
   ],
   "source": [
    "ham_emails = df_from_dir(PATH3, 0)\n",
    "ham_emails = ham_emails.append(df_from_dir(PATH4, 0))\n",
    "ham_emails.shape"
   ]
  },
  {
   "cell_type": "code",
   "execution_count": 14,
   "id": "ee20127e",
   "metadata": {},
   "outputs": [
    {
     "data": {
      "text/plain": [
       "(5799, 2)"
      ]
     },
     "execution_count": 14,
     "metadata": {},
     "output_type": "execute_result"
    }
   ],
   "source": [
    "data = pd.concat([spam_emails, ham_emails])\n",
    "data.shape"
   ]
  },
  {
   "cell_type": "code",
   "execution_count": 15,
   "id": "2fa25686",
   "metadata": {},
   "outputs": [
    {
     "data": {
      "text/plain": [
       "0"
      ]
     },
     "execution_count": 15,
     "metadata": {},
     "output_type": "execute_result"
    }
   ],
   "source": [
    "data['MESSAGE'].isnull().sum()"
   ]
  },
  {
   "cell_type": "code",
   "execution_count": 16,
   "id": "75ddfb1c",
   "metadata": {},
   "outputs": [
    {
     "data": {
      "text/plain": [
       "3"
      ]
     },
     "execution_count": 16,
     "metadata": {},
     "output_type": "execute_result"
    }
   ],
   "source": [
    "(data['MESSAGE'].str.len() == 0).sum()"
   ]
  },
  {
   "cell_type": "code",
   "execution_count": 17,
   "id": "d3fc446d",
   "metadata": {},
   "outputs": [
    {
     "data": {
      "text/plain": [
       "Index(['cmds', 'cmds', 'cmds'], dtype='object')"
      ]
     },
     "execution_count": 17,
     "metadata": {},
     "output_type": "execute_result"
    }
   ],
   "source": [
    "data[(data['MESSAGE'].str.len() == 0)].index"
   ]
  },
  {
   "cell_type": "code",
   "execution_count": 18,
   "id": "7c1fdab2",
   "metadata": {},
   "outputs": [
    {
     "data": {
      "text/plain": [
       "1896"
      ]
     },
     "execution_count": 18,
     "metadata": {},
     "output_type": "execute_result"
    }
   ],
   "source": [
    "data.index.get_loc('01400.b444b69845db2fa0a4693ca04e6ac5c5')"
   ]
  },
  {
   "cell_type": "code",
   "execution_count": 19,
   "id": "82709e61",
   "metadata": {},
   "outputs": [
    {
     "data": {
      "text/html": [
       "<div>\n",
       "<style scoped>\n",
       "    .dataframe tbody tr th:only-of-type {\n",
       "        vertical-align: middle;\n",
       "    }\n",
       "\n",
       "    .dataframe tbody tr th {\n",
       "        vertical-align: top;\n",
       "    }\n",
       "\n",
       "    .dataframe thead th {\n",
       "        text-align: right;\n",
       "    }\n",
       "</style>\n",
       "<table border=\"1\" class=\"dataframe\">\n",
       "  <thead>\n",
       "    <tr style=\"text-align: right;\">\n",
       "      <th></th>\n",
       "      <th>MESSAGE</th>\n",
       "      <th>CATEGORY</th>\n",
       "    </tr>\n",
       "  </thead>\n",
       "  <tbody>\n",
       "    <tr>\n",
       "      <th>01400.b444b69845db2fa0a4693ca04e6ac5c5</th>\n",
       "      <td>ATTN:SIR/MADAN      \\n\\n\\n\\n                  ...</td>\n",
       "      <td>1</td>\n",
       "    </tr>\n",
       "  </tbody>\n",
       "</table>\n",
       "</div>"
      ],
      "text/plain": [
       "                                                                                  MESSAGE  \\\n",
       "01400.b444b69845db2fa0a4693ca04e6ac5c5  ATTN:SIR/MADAN      \\n\\n\\n\\n                  ...   \n",
       "\n",
       "                                        CATEGORY  \n",
       "01400.b444b69845db2fa0a4693ca04e6ac5c5         1  "
      ]
     },
     "execution_count": 19,
     "metadata": {},
     "output_type": "execute_result"
    }
   ],
   "source": [
    "data[1896:1897]"
   ]
  },
  {
   "cell_type": "code",
   "execution_count": 20,
   "id": "27dcb744",
   "metadata": {},
   "outputs": [],
   "source": [
    "data.drop(['cmds'], inplace=True)"
   ]
  },
  {
   "cell_type": "code",
   "execution_count": 21,
   "id": "20fa4269",
   "metadata": {},
   "outputs": [
    {
     "data": {
      "text/plain": [
       "(5796, 2)"
      ]
     },
     "execution_count": 21,
     "metadata": {},
     "output_type": "execute_result"
    }
   ],
   "source": [
    "data.shape"
   ]
  },
  {
   "cell_type": "code",
   "execution_count": 22,
   "id": "81121958",
   "metadata": {},
   "outputs": [
    {
     "data": {
      "text/plain": [
       "00001.7848dde101aa985090474a91ec93fcf0       0\n",
       "00002.d94f1b97e48ed3b553b3508d116e6a09       1\n",
       "00003.2ee33bc6eacdb11f38d052c44819ba6c       2\n",
       "00004.eac8de8d759b7e74154f142194282724       3\n",
       "00005.57696a39d7d84318ce497886896bf90d       4\n",
       "                                          ... \n",
       "01396.61983fbe6ec43f55fd44e30fce24ffa6    5791\n",
       "01397.9f9ef4c2a8dc012d80f2ce2d3473d3b7    5792\n",
       "01398.169b51731fe569f42169ae8f948ec676    5793\n",
       "01399.ca6b00b7b341bbde9a9ea3dd6a7bf896    5794\n",
       "01400.f897f0931e461e7b2e964d28e927c35e    5795\n",
       "Name: DOC_ID, Length: 5796, dtype: int32"
      ]
     },
     "execution_count": 22,
     "metadata": {},
     "output_type": "execute_result"
    }
   ],
   "source": [
    "doc_ids = range(0, len(data.index))\n",
    "data['DOC_ID'] = doc_ids\n",
    "data.DOC_ID"
   ]
  },
  {
   "cell_type": "code",
   "execution_count": 23,
   "id": "0cbcf217",
   "metadata": {},
   "outputs": [
    {
     "data": {
      "text/html": [
       "<div>\n",
       "<style scoped>\n",
       "    .dataframe tbody tr th:only-of-type {\n",
       "        vertical-align: middle;\n",
       "    }\n",
       "\n",
       "    .dataframe tbody tr th {\n",
       "        vertical-align: top;\n",
       "    }\n",
       "\n",
       "    .dataframe thead th {\n",
       "        text-align: right;\n",
       "    }\n",
       "</style>\n",
       "<table border=\"1\" class=\"dataframe\">\n",
       "  <thead>\n",
       "    <tr style=\"text-align: right;\">\n",
       "      <th></th>\n",
       "      <th>MESSAGE</th>\n",
       "      <th>CATEGORY</th>\n",
       "      <th>FILE_NAME</th>\n",
       "    </tr>\n",
       "    <tr>\n",
       "      <th>DOC_ID</th>\n",
       "      <th></th>\n",
       "      <th></th>\n",
       "      <th></th>\n",
       "    </tr>\n",
       "  </thead>\n",
       "  <tbody>\n",
       "    <tr>\n",
       "      <th>0</th>\n",
       "      <td>&lt;!DOCTYPE HTML PUBLIC \"-//W3C//DTD HTML 4.0 Tr...</td>\n",
       "      <td>1</td>\n",
       "      <td>00001.7848dde101aa985090474a91ec93fcf0</td>\n",
       "    </tr>\n",
       "    <tr>\n",
       "      <th>1</th>\n",
       "      <td>1) Fight The Risk of Cancer!\\n\\nhttp://www.adc...</td>\n",
       "      <td>1</td>\n",
       "      <td>00002.d94f1b97e48ed3b553b3508d116e6a09</td>\n",
       "    </tr>\n",
       "    <tr>\n",
       "      <th>2</th>\n",
       "      <td>1) Fight The Risk of Cancer!\\n\\nhttp://www.adc...</td>\n",
       "      <td>1</td>\n",
       "      <td>00003.2ee33bc6eacdb11f38d052c44819ba6c</td>\n",
       "    </tr>\n",
       "    <tr>\n",
       "      <th>3</th>\n",
       "      <td>##############################################...</td>\n",
       "      <td>1</td>\n",
       "      <td>00004.eac8de8d759b7e74154f142194282724</td>\n",
       "    </tr>\n",
       "    <tr>\n",
       "      <th>4</th>\n",
       "      <td>I thought you might like these:\\n\\n1) Slim Dow...</td>\n",
       "      <td>1</td>\n",
       "      <td>00005.57696a39d7d84318ce497886896bf90d</td>\n",
       "    </tr>\n",
       "  </tbody>\n",
       "</table>\n",
       "</div>"
      ],
      "text/plain": [
       "                                                  MESSAGE  CATEGORY  \\\n",
       "DOC_ID                                                                \n",
       "0       <!DOCTYPE HTML PUBLIC \"-//W3C//DTD HTML 4.0 Tr...         1   \n",
       "1       1) Fight The Risk of Cancer!\\n\\nhttp://www.adc...         1   \n",
       "2       1) Fight The Risk of Cancer!\\n\\nhttp://www.adc...         1   \n",
       "3       ##############################################...         1   \n",
       "4       I thought you might like these:\\n\\n1) Slim Dow...         1   \n",
       "\n",
       "                                     FILE_NAME  \n",
       "DOC_ID                                          \n",
       "0       00001.7848dde101aa985090474a91ec93fcf0  \n",
       "1       00002.d94f1b97e48ed3b553b3508d116e6a09  \n",
       "2       00003.2ee33bc6eacdb11f38d052c44819ba6c  \n",
       "3       00004.eac8de8d759b7e74154f142194282724  \n",
       "4       00005.57696a39d7d84318ce497886896bf90d  "
      ]
     },
     "execution_count": 23,
     "metadata": {},
     "output_type": "execute_result"
    }
   ],
   "source": [
    "data['FILE_NAME'] = data.index\n",
    "data.set_index('DOC_ID', inplace=True)\n",
    "data.head()"
   ]
  },
  {
   "cell_type": "code",
   "execution_count": 24,
   "id": "4370379e",
   "metadata": {},
   "outputs": [
    {
     "data": {
      "text/html": [
       "<div>\n",
       "<style scoped>\n",
       "    .dataframe tbody tr th:only-of-type {\n",
       "        vertical-align: middle;\n",
       "    }\n",
       "\n",
       "    .dataframe tbody tr th {\n",
       "        vertical-align: top;\n",
       "    }\n",
       "\n",
       "    .dataframe thead th {\n",
       "        text-align: right;\n",
       "    }\n",
       "</style>\n",
       "<table border=\"1\" class=\"dataframe\">\n",
       "  <thead>\n",
       "    <tr style=\"text-align: right;\">\n",
       "      <th></th>\n",
       "      <th>MESSAGE</th>\n",
       "      <th>CATEGORY</th>\n",
       "      <th>FILE_NAME</th>\n",
       "    </tr>\n",
       "    <tr>\n",
       "      <th>DOC_ID</th>\n",
       "      <th></th>\n",
       "      <th></th>\n",
       "      <th></th>\n",
       "    </tr>\n",
       "  </thead>\n",
       "  <tbody>\n",
       "    <tr>\n",
       "      <th>5791</th>\n",
       "      <td>http://news.bbc.co.uk/1/hi/england/2515127.stm...</td>\n",
       "      <td>0</td>\n",
       "      <td>01396.61983fbe6ec43f55fd44e30fce24ffa6</td>\n",
       "    </tr>\n",
       "    <tr>\n",
       "      <th>5792</th>\n",
       "      <td>&gt; &gt;-- be careful when using this one.) Also, t...</td>\n",
       "      <td>0</td>\n",
       "      <td>01397.9f9ef4c2a8dc012d80f2ce2d3473d3b7</td>\n",
       "    </tr>\n",
       "    <tr>\n",
       "      <th>5793</th>\n",
       "      <td>&gt;&gt;&gt;&gt;&gt; \"SM\" == Skip Montanaro &lt;skip@pobox.com&gt; ...</td>\n",
       "      <td>0</td>\n",
       "      <td>01398.169b51731fe569f42169ae8f948ec676</td>\n",
       "    </tr>\n",
       "    <tr>\n",
       "      <th>5794</th>\n",
       "      <td>So then, \"Mark Hammond\" &lt;mhammond@skippinet.co...</td>\n",
       "      <td>0</td>\n",
       "      <td>01399.ca6b00b7b341bbde9a9ea3dd6a7bf896</td>\n",
       "    </tr>\n",
       "    <tr>\n",
       "      <th>5795</th>\n",
       "      <td>Hi there,\\n\\n\\n\\nNow this is probably of no us...</td>\n",
       "      <td>0</td>\n",
       "      <td>01400.f897f0931e461e7b2e964d28e927c35e</td>\n",
       "    </tr>\n",
       "  </tbody>\n",
       "</table>\n",
       "</div>"
      ],
      "text/plain": [
       "                                                  MESSAGE  CATEGORY  \\\n",
       "DOC_ID                                                                \n",
       "5791    http://news.bbc.co.uk/1/hi/england/2515127.stm...         0   \n",
       "5792    > >-- be careful when using this one.) Also, t...         0   \n",
       "5793    >>>>> \"SM\" == Skip Montanaro <skip@pobox.com> ...         0   \n",
       "5794    So then, \"Mark Hammond\" <mhammond@skippinet.co...         0   \n",
       "5795    Hi there,\\n\\n\\n\\nNow this is probably of no us...         0   \n",
       "\n",
       "                                     FILE_NAME  \n",
       "DOC_ID                                          \n",
       "5791    01396.61983fbe6ec43f55fd44e30fce24ffa6  \n",
       "5792    01397.9f9ef4c2a8dc012d80f2ce2d3473d3b7  \n",
       "5793    01398.169b51731fe569f42169ae8f948ec676  \n",
       "5794    01399.ca6b00b7b341bbde9a9ea3dd6a7bf896  \n",
       "5795    01400.f897f0931e461e7b2e964d28e927c35e  "
      ]
     },
     "execution_count": 24,
     "metadata": {},
     "output_type": "execute_result"
    }
   ],
   "source": [
    "data.tail()"
   ]
  },
  {
   "cell_type": "markdown",
   "id": "3b9c77df",
   "metadata": {},
   "source": [
    "# JSON File"
   ]
  },
  {
   "cell_type": "code",
   "execution_count": 25,
   "id": "b408b4fd",
   "metadata": {},
   "outputs": [],
   "source": [
    "#data.to_json(DATA_JSON_FILE)"
   ]
  },
  {
   "cell_type": "markdown",
   "id": "82fed43a",
   "metadata": {},
   "source": [
    "# Visualization (Pie Chart)"
   ]
  },
  {
   "cell_type": "code",
   "execution_count": 26,
   "id": "99b567a1",
   "metadata": {},
   "outputs": [
    {
     "data": {
      "text/plain": [
       "0    3900\n",
       "1    1896\n",
       "Name: CATEGORY, dtype: int64"
      ]
     },
     "execution_count": 26,
     "metadata": {},
     "output_type": "execute_result"
    }
   ],
   "source": [
    "data.CATEGORY.value_counts()"
   ]
  },
  {
   "cell_type": "code",
   "execution_count": 27,
   "id": "0ce50367",
   "metadata": {},
   "outputs": [],
   "source": [
    "No_of_spam = data.CATEGORY.value_counts()[1]\n",
    "No_of_ham = data.CATEGORY.value_counts()[0]"
   ]
  },
  {
   "cell_type": "code",
   "execution_count": 28,
   "id": "607a4f99",
   "metadata": {},
   "outputs": [
    {
     "data": {
      "image/png": "[encoded data removed]",
      "text/plain": [
       "<Figure size 454x454 with 1 Axes>"
      ]
     },
     "metadata": {},
     "output_type": "display_data"
    }
   ],
   "source": [
    "category = ['Spam', 'Ham']\n",
    "sizes = [No_of_spam, No_of_ham]\n",
    "my_colors = ['green', 'yellow']\n",
    "plt.figure(figsize=(2, 2), dpi=227)\n",
    "plt.pie(sizes, labels=category, textprops={'fontsize': 6}, startangle=90, explode=[0, 0.09], \n",
    "        autopct='%1.1f%%', colors=my_colors)\n",
    "plt.show()"
   ]
  },
  {
   "cell_type": "markdown",
   "id": "ce6d5672",
   "metadata": {},
   "source": [
    "# Donut Chart"
   ]
  },
  {
   "cell_type": "code",
   "execution_count": 29,
   "id": "6e1fc4e9",
   "metadata": {},
   "outputs": [
    {
     "data": {
      "image/png": "[encoded data removed]",
      "text/plain": [
       "<Figure size 454x454 with 1 Axes>"
      ]
     },
     "metadata": {},
     "output_type": "display_data"
    }
   ],
   "source": [
    "category = ['Spam', 'Ham']\n",
    "sizes = [No_of_spam, No_of_ham]\n",
    "my_colors = ['blue', 'yellow']\n",
    "plt.figure(figsize=(2, 2), dpi=227)\n",
    "plt.pie(sizes, labels=category, textprops={'fontsize': 6}, startangle=90, autopct='%1.0f%%', colors=my_colors, pctdistance=0.8)\n",
    "\n",
    "my_circle = plt.Circle((0, 0), radius=0.6, fc='white')\n",
    "plt.gca().add_artist(my_circle)\n",
    "plt.show()"
   ]
  },
  {
   "cell_type": "markdown",
   "id": "ad29bf80",
   "metadata": {},
   "source": [
    "# Multiple Categories"
   ]
  },
  {
   "cell_type": "code",
   "execution_count": 30,
   "id": "d717d995",
   "metadata": {},
   "outputs": [
    {
     "data": {
      "image/png": "[encoded data removed]",
      "text/plain": [
       "<Figure size 454x454 with 1 Axes>"
      ]
     },
     "metadata": {},
     "output_type": "display_data"
    }
   ],
   "source": [
    "category = ['Spam', 'Ham', 'Update', 'Join']\n",
    "sizes = [12, 25, 40, 23]\n",
    "my_colors = ['blue', 'yellow', 'red', 'orange']\n",
    "offset = [0.05, 0.05, 0.05, 0.05]\n",
    "plt.figure(figsize=(2, 2), dpi=227)\n",
    "plt.pie(sizes, labels=category, textprops={'fontsize': 6}, startangle=90, autopct='%1.0f%%', colors=my_colors, \n",
    "        explode=offset, pctdistance=0.8)\n",
    "\n",
    "my_circle = plt.Circle((0, 0), radius=0.6, fc='white')\n",
    "plt.gca().add_artist(my_circle)\n",
    "plt.show()"
   ]
  },
  {
   "cell_type": "markdown",
   "id": "93e63983",
   "metadata": {},
   "source": [
    "# Natural Language Processing "
   ]
  },
  {
   "cell_type": "code",
   "execution_count": 31,
   "id": "6e090f17",
   "metadata": {},
   "outputs": [
    {
     "name": "stderr",
     "output_type": "stream",
     "text": [
      "[nltk_data] Error loading punkt: <urlopen error [SSL:\n",
      "[nltk_data]     CERTIFICATE_VERIFY_FAILED] certificate verify failed:\n",
      "[nltk_data]     certificate signature failure (_ssl.c:1125)>\n"
     ]
    },
    {
     "data": {
      "text/plain": [
       "False"
      ]
     },
     "execution_count": 31,
     "metadata": {},
     "output_type": "execute_result"
    }
   ],
   "source": [
    "nltk.download('punkt')"
   ]
  },
  {
   "cell_type": "markdown",
   "id": "36c257c0",
   "metadata": {},
   "source": [
    "## 1) Tokenising"
   ]
  },
  {
   "cell_type": "code",
   "execution_count": 32,
   "id": "1982b8cc",
   "metadata": {},
   "outputs": [
    {
     "data": {
      "text/plain": [
       "['nishad', 'prasanna', 'kanago']"
      ]
     },
     "execution_count": 32,
     "metadata": {},
     "output_type": "execute_result"
    }
   ],
   "source": [
    "msg = 'Nishad Prasanna Kanago'\n",
    "word_tokenize(msg.lower())"
   ]
  },
  {
   "cell_type": "markdown",
   "id": "8be8250c",
   "metadata": {},
   "source": [
    "## 2) Stop Words"
   ]
  },
  {
   "cell_type": "code",
   "execution_count": 33,
   "id": "835268c4",
   "metadata": {},
   "outputs": [
    {
     "name": "stdout",
     "output_type": "stream",
     "text": [
      "cool\n"
     ]
    }
   ],
   "source": [
    "stop_words = set(stopwords.words('english'))\n",
    "if 'this' in stop_words: print(\"cool\")"
   ]
  },
  {
   "cell_type": "code",
   "execution_count": 34,
   "id": "76418e3f",
   "metadata": {},
   "outputs": [
    {
     "data": {
      "text/plain": [
       "['nishad', 'good', 'boy', '!']"
      ]
     },
     "execution_count": 34,
     "metadata": {},
     "output_type": "execute_result"
    }
   ],
   "source": [
    "str = 'Nishad iS A gOOd boY !'\n",
    "tw = word_tokenize(str.lower())\n",
    "filtered_list = []\n",
    "for i in tw:\n",
    "    if i not in stop_words:\n",
    "        filtered_list.append(i);\n",
    "filtered_list"
   ]
  },
  {
   "cell_type": "markdown",
   "id": "4eb3b1c4",
   "metadata": {},
   "source": [
    "## 3) Stemming and remove Punctuations"
   ]
  },
  {
   "cell_type": "code",
   "execution_count": 35,
   "id": "21775fab",
   "metadata": {},
   "outputs": [
    {
     "data": {
      "text/plain": [
       "['get',\n",
       " 'ice',\n",
       " 'cream',\n",
       " 'flavour',\n",
       " 'chocol',\n",
       " 'inde',\n",
       " 'ruin',\n",
       " 'chois',\n",
       " 'ever',\n",
       " 'seen',\n",
       " 'far']"
      ]
     },
     "execution_count": 35,
     "metadata": {},
     "output_type": "execute_result"
    }
   ],
   "source": [
    "str = 'Getting an ice creamed flavoured chocolate ? is indeed the most ruined choise . I have ever seen so far !'\n",
    "tw = word_tokenize(str.lower())\n",
    "filtered_list = []\n",
    "# stemmer = PorterStemmer()\n",
    "stemmer = SnowballStemmer('english')\n",
    "\n",
    "for i in tw:\n",
    "    if i not in stop_words and i.isalpha():\n",
    "        stemmed_word = stemmer.stem(i)\n",
    "        filtered_list.append(stemmed_word);\n",
    "filtered_list"
   ]
  },
  {
   "cell_type": "markdown",
   "id": "f6f4d6e8",
   "metadata": {},
   "source": [
    "## 4) Removing HTML tags"
   ]
  },
  {
   "cell_type": "code",
   "execution_count": 36,
   "id": "96ee3be9",
   "metadata": {},
   "outputs": [
    {
     "name": "stdout",
     "output_type": "stream",
     "text": [
      "<!DOCTYPE HTML PUBLIC \"-//W3C//DTD HTML 4.0 Transitional//EN\">\n",
      "<html>\n",
      " <head>\n",
      "  <meta charset=\"utf-8\" content='3D\"text/html;' http-equiv=\"3DContent-T=\" ype=\"\"/>\n",
      "  <meta 5.00.2314.1000\"=\"\" content='3D\"MSHTML' name=\"3DGENERATOR\"/>\n",
      " </head>\n",
      " <body>\n",
      "  <!-- Inserted by Calypso -->\n",
      "  <table black;=\"\" border=\"3D0\" cellpadding=\"3D0\" cellspacing=\"3D2\" display:=\"\" id=\"3D_CalyPrintHeader_\" none\"=\"\" r=\"ules=3Dnone\" style='3D\"COLOR:' width='3D\"100%\"'>\n",
      "   <tbody>\n",
      "    <tr>\n",
      "     <td colspan=\"3D3\">\n",
      "      <hr color=\"3Dblack\" noshade=\"\" size=\"3D1\"/>\n",
      "     </td>\n",
      "    </tr>\n",
      "    <tr>\n",
      "     <td colspan=\"3D3\">\n",
      "      <hr color=\"3Dblack\" noshade=\"\" size=\"3D1\"/>\n",
      "     </td>\n",
      "    </tr>\n",
      "   </tbody>\n",
      "  </table>\n",
      "  <!-- End Calypso -->\n",
      "  <!-- Inserted by Calypso=\n",
      "\n",
      " -->\n",
      "  <font color=\"3D#000000\" face=\"3DVERDANA,ARIAL,HELVETICA\" size=\"3D-2\">\n",
      "   <br/>\n",
      "  </font>\n",
      "  &lt;=\n",
      "\n",
      "/TR&gt;\n",
      "  <!-- End Calypso -->\n",
      "  <font bold\"=\"\" color=\"3D#ff0000\" face='3D\"Copperplate' gothic=\"\" ptsize='3D\"10\"' size=\"3D5\">\n",
      "   <center>\n",
      "    Save up to 70% on Life Insurance.\n",
      "   </center>\n",
      "  </font>\n",
      "  <font 0000=\"\" bold\"=\"\" color=\"3D#ff=\" face='3D\"Copperplate' gothic=\"\" ptsize='3D\"10\"' size=\"3D5\">\n",
      "   <center>\n",
      "    Why Spend More Than You Have To?\n",
      "    <center>\n",
      "     <font bold\"=\"\" color=\"3D#ff0000\" face='3D\"Copperplate' gothic=\"\" pt='SIZE=3D\"10\"' size=\"3D5\">\n",
      "      <center>\n",
      "       Life Quote Savings\n",
      "       <center>\n",
      "        <p align=\"3Dleft\">\n",
      "        </p>\n",
      "        <p align=\"3Dleft\">\n",
      "        </p>\n",
      "       </center>\n",
      "      </center>\n",
      "     </font>\n",
      "     <br/>\n",
      "    </center>\n",
      "   </center>\n",
      "  </font>\n",
      "  <p>\n",
      "  </p>\n",
      "  <center>\n",
      "   <table border=\"3D0\" bordercolor=\"3D#111111\" cellpadding=\"3D0\" cellspacing=\"3D0\" wi=\"dth=3D650\">\n",
      "    <tbody>\n",
      "    </tbody>\n",
      "   </table>\n",
      "   <table border=\"3D0\" bordercolor=\"3D#111111\" cellpadding=\"3D5\" cellspacing=\"3D0\" wi=\"dth=3D650\">\n",
      "    <tbody>\n",
      "     <tr>\n",
      "      <td colspan=\"3D2\" width='3D\"35%\"'>\n",
      "       <b>\n",
      "        <font face=\"3DVerdana\" size=\"3D4\">\n",
      "         Ensurin=\n",
      "\n",
      "g your \n",
      "\n",
      "      family's financial security is very important. Life Quote Savings ma=\n",
      "\n",
      "kes \n",
      "\n",
      "      buying life insurance simple and affordable. We Provide FREE Access =\n",
      "\n",
      "to The \n",
      "\n",
      "      Very Best Companies and The Lowest Rates.\n",
      "        </font>\n",
      "       </b>\n",
      "      </td>\n",
      "     </tr>\n",
      "     <tr>\n",
      "      <td align=\"3Dmiddle\" valign=\"3Dtop\" width='3D\"18%\"'>\n",
      "       <table bordercolor=\"3D#111111\" width='3D\"100%\"'>\n",
      "        <tbody>\n",
      "         <tr>\n",
      "          <td %\"=\"\" 5px\"=\"\" 5px;=\"\" padding-right:=\"\" style='3D\"PADDING-LEFT:' width='3D\"100='>\n",
      "           <font face=\"3DVerdana\" size=\"3D4\">\n",
      "            <b>\n",
      "             Life Quote Savings\n",
      "            </b>\n",
      "            is FAST, EAS=\n",
      "\n",
      "Y and \n",
      "\n",
      "            SAVES you money! Let us help you get started with the best val=\n",
      "\n",
      "ues in \n",
      "\n",
      "            the country on new coverage. You can SAVE hundreds or even tho=\n",
      "\n",
      "usands \n",
      "\n",
      "            of dollars by requesting a FREE quote from Lifequote Savings. =\n",
      "\n",
      "Our \n",
      "\n",
      "            service will take you less than 5 minutes to complete. Shop an=\n",
      "\n",
      "d \n",
      "\n",
      "            compare. SAVE up to 70% on all types of Life insurance!\n",
      "           </font>\n",
      "          </td>\n",
      "         </tr>\n",
      "         <tr>\n",
      "          <br/>\n",
      "          <br/>\n",
      "          <td 5px\"=\"\" 5px;=\"\" height=\"3D50\" padding-right:=\"\" style='3D\"PADDING-LEFT:' width='3D\"100%\"'>\n",
      "           <p align=\"3Dcenter\">\n",
      "            <b>\n",
      "             <font face=\"3DVerdana\" size=\"3D5\">\n",
      "              <a href='3D\"http://website.e365.cc/savequote/\"'>\n",
      "               Click Here For Your=\n",
      "\n",
      " \n",
      "\n",
      "            Free Quote!\n",
      "              </a>\n",
      "             </font>\n",
      "            </b>\n",
      "           </p>\n",
      "          </td>\n",
      "          <p>\n",
      "           <font face=\"3DVerdana\" size=\"3D4\">\n",
      "            <strong>\n",
      "             <center>\n",
      "              Protecting your family is the best investment you'll eve=\n",
      "\n",
      "r \n",
      "\n",
      "          make!\n",
      "              <br/>\n",
      "             </center>\n",
      "            </strong>\n",
      "           </font>\n",
      "          </p>\n",
      "         </tr>\n",
      "        </tbody>\n",
      "       </table>\n",
      "      </td>\n",
      "     </tr>\n",
      "     <tr>\n",
      "      <br/>\n",
      "      <br/>\n",
      "     </tr>\n",
      "     <tr>\n",
      "     </tr>\n",
      "    </tbody>\n",
      "   </table>\n",
      "   <p align=\"3Dleft\">\n",
      "    <font face='3D\"Arial,' helvetica,=\"\" sans-serif\"=\"\" size=\"3D2=\">\n",
      "    </font>\n",
      "   </p>\n",
      "   <p>\n",
      "   </p>\n",
      "   <center>\n",
      "    <br/>\n",
      "    <br/>\n",
      "    <br/>\n",
      "    <p>\n",
      "    </p>\n",
      "    <p align=\"3Dleft\">\n",
      "     <br/>\n",
      "     <br/>\n",
      "     <br/>\n",
      "     <br/>\n",
      "     <br/>\n",
      "    </p>\n",
      "    <p align=\"3Dcenter\">\n",
      "     <br/>\n",
      "    </p>\n",
      "    <p align=\"3Dleft\">\n",
      "     <br/>\n",
      "     <br/>\n",
      "     <br/>\n",
      "     If you are in receipt of this=\n",
      "\n",
      " email \n",
      "\n",
      "      in error and/or wish to be removed from our list,\n",
      "     <a href='3D\"mailto:coins@btamail.net.cn\"'>\n",
      "      PLEASE CLICK HERE\n",
      "     </a>\n",
      "     AND TYPE =\n",
      "\n",
      "REMOVE. If you \n",
      "\n",
      "      reside in any state which prohibits e-mail solicitations for insuran=\n",
      "\n",
      "ce, \n",
      "\n",
      "      please disregard this \n",
      "\n",
      "      email.\n",
      "     <br/>\n",
      "     <br/>\n",
      "     <br/>\n",
      "     <br/>\n",
      "     <br/>\n",
      "     <br/>\n",
      "     <br/>\n",
      "     <br/>\n",
      "     <br/>\n",
      "     <br/>\n",
      "     <br/>\n",
      "     <br/>\n",
      "     <br/>\n",
      "     <br=>\n",
      "      <br/>\n",
      "      <br/>\n",
      "      <br/>\n",
      "     </br=>\n",
      "    </p>\n",
      "   </center>\n",
      "  </center>\n",
      "  <!--=\n",
      "\n",
      "CENTER-->\n",
      " </body>\n",
      "</html>\n",
      "\n"
     ]
    }
   ],
   "source": [
    "soup = BeautifulSoup(data.at[0, 'MESSAGE'], 'html.parser')\n",
    "print(soup.prettify())"
   ]
  },
  {
   "cell_type": "code",
   "execution_count": 37,
   "id": "9fd3b237",
   "metadata": {},
   "outputs": [
    {
     "data": {
      "text/plain": [
       "\"\\n\\n\\n\\n\\n\\n\\n\\n\\n\\n\\n\\n\\n\\n<=\\n\\n/TR>\\nSave up to 70% on Life Insurance.\\nWhy Spend More Than You Have To?\\n\\n\\nLife Quote Savings\\n\\n\\n\\n\\n\\n\\n\\n\\n\\n\\n\\nEnsurin=\\n\\ng your \\n\\n      family's financial security is very important. Life Quote Savings ma=\\n\\nkes \\n\\n      buying life insurance simple and affordable. We Provide FREE Access =\\n\\nto The \\n\\n      Very Best Companies and The Lowest Rates.\\n\\n\\n\\n\\n\\nLife Quote Savings is FAST, EAS=\\n\\nY and \\n\\n            SAVES you money! Let us help you get started with the best val=\\n\\nues in \\n\\n            the country on new coverage. You can SAVE hundreds or even tho=\\n\\nusands \\n\\n            of dollars by requesting a FREE quote from Lifequote Savings. =\\n\\nOur \\n\\n            service will take you less than 5 minutes to complete. Shop an=\\n\\nd \\n\\n            compare. SAVE up to 70% on all types of Life insurance! \\n\\n\\n\\n\\nClick Here For Your=\\n\\n \\n\\n            Free Quote!\\n\\nProtecting your family is the best investment you'll eve=\\n\\nr \\n\\n          make!\\n\\n\\n\\n\\n\\n\\n\\n\\nIf you are in receipt of this=\\n\\n email \\n\\n      in error and/or wish to be removed from our list, PLEASE CLICK HERE AND TYPE =\\n\\nREMOVE. If you \\n\\n      reside in any state which prohibits e-mail solicitations for insuran=\\n\\nce, \\n\\n      please disregard this \\n\\n      email.\\n\""
      ]
     },
     "execution_count": 37,
     "metadata": {},
     "output_type": "execute_result"
    }
   ],
   "source": [
    "soup.get_text()"
   ]
  },
  {
   "cell_type": "markdown",
   "id": "c8d792ae",
   "metadata": {},
   "source": [
    "## 5) Cleaning and Preocessing Emails"
   ]
  },
  {
   "cell_type": "code",
   "execution_count": 38,
   "id": "fb675f92",
   "metadata": {},
   "outputs": [],
   "source": [
    "def clean_msg(message, stop_word_set = set(stopwords.words('english')), stemmer = SnowballStemmer('english')):\n",
    "    soup1 = BeautifulSoup(message, 'html.parser')\n",
    "    new = soup1.get_text()\n",
    "    filter_word = []\n",
    "    email_tok = word_tokenize(new.lower())\n",
    "    for j in email_tok:\n",
    "        if j not in stop_word_set and j.isalpha():\n",
    "            filter_word.append(stemmer.stem(j))\n",
    "    return filter_word "
   ]
  },
  {
   "cell_type": "code",
   "execution_count": 39,
   "id": "7b54fa38",
   "metadata": {},
   "outputs": [
    {
     "data": {
      "text/plain": [
       "['save',\n",
       " 'life',\n",
       " 'insur',\n",
       " 'spend',\n",
       " 'life',\n",
       " 'quot',\n",
       " 'save',\n",
       " 'g',\n",
       " 'famili',\n",
       " 'financi',\n",
       " 'secur',\n",
       " 'import',\n",
       " 'life',\n",
       " 'quot',\n",
       " 'save',\n",
       " 'kes',\n",
       " 'buy',\n",
       " 'life',\n",
       " 'insur',\n",
       " 'simpl',\n",
       " 'afford',\n",
       " 'provid',\n",
       " 'free',\n",
       " 'access',\n",
       " 'best',\n",
       " 'compani',\n",
       " 'lowest',\n",
       " 'rate',\n",
       " 'life',\n",
       " 'quot',\n",
       " 'save',\n",
       " 'fast',\n",
       " 'save',\n",
       " 'money',\n",
       " 'let',\n",
       " 'us',\n",
       " 'help',\n",
       " 'get',\n",
       " 'start',\n",
       " 'best',\n",
       " 'ue',\n",
       " 'countri',\n",
       " 'new',\n",
       " 'coverag',\n",
       " 'save',\n",
       " 'hundr',\n",
       " 'even',\n",
       " 'usand',\n",
       " 'dollar',\n",
       " 'request',\n",
       " 'free',\n",
       " 'quot',\n",
       " 'lifequot',\n",
       " 'save',\n",
       " 'servic',\n",
       " 'take',\n",
       " 'less',\n",
       " 'minut',\n",
       " 'complet',\n",
       " 'shop',\n",
       " 'compar',\n",
       " 'save',\n",
       " 'type',\n",
       " 'life',\n",
       " 'insur',\n",
       " 'click',\n",
       " 'free',\n",
       " 'quot',\n",
       " 'protect',\n",
       " 'famili',\n",
       " 'best',\n",
       " 'invest',\n",
       " 'r',\n",
       " 'make',\n",
       " 'receipt',\n",
       " 'email',\n",
       " 'error',\n",
       " 'wish',\n",
       " 'remov',\n",
       " 'list',\n",
       " 'pleas',\n",
       " 'click',\n",
       " 'type',\n",
       " 'remov',\n",
       " 'resid',\n",
       " 'state',\n",
       " 'prohibit',\n",
       " 'solicit',\n",
       " 'ce',\n",
       " 'pleas',\n",
       " 'disregard',\n",
       " 'email']"
      ]
     },
     "execution_count": 39,
     "metadata": {},
     "output_type": "execute_result"
    }
   ],
   "source": [
    "clean_msg(data.at[0, 'MESSAGE'])"
   ]
  },
  {
   "cell_type": "markdown",
   "id": "4ecb4841",
   "metadata": {},
   "source": [
    "# Cleaning and tokenization "
   ]
  },
  {
   "cell_type": "markdown",
   "id": "3a407f26",
   "metadata": {},
   "source": [
    "# Sclicing dataframe"
   ]
  },
  {
   "cell_type": "code",
   "execution_count": 40,
   "id": "54ed74ed",
   "metadata": {},
   "outputs": [
    {
     "data": {
      "text/plain": [
       "'00003.2ee33bc6eacdb11f38d052c44819ba6c'"
      ]
     },
     "execution_count": 40,
     "metadata": {},
     "output_type": "execute_result"
    }
   ],
   "source": [
    "data.iat[2, 2]"
   ]
  },
  {
   "cell_type": "code",
   "execution_count": 41,
   "id": "1a31429f",
   "metadata": {},
   "outputs": [],
   "source": [
    "first_emails = data.MESSAGE.iloc[0:3]\n",
    "nested_list = first_emails.apply(clean_msg)"
   ]
  },
  {
   "cell_type": "code",
   "execution_count": 42,
   "id": "1810b24e",
   "metadata": {},
   "outputs": [
    {
     "data": {
      "text/plain": [
       "192"
      ]
     },
     "execution_count": 42,
     "metadata": {},
     "output_type": "execute_result"
    }
   ],
   "source": [
    "flat_list = [j for i in nested_list for j in i]\n",
    "len(flat_list)"
   ]
  },
  {
   "cell_type": "markdown",
   "id": "edf192f8",
   "metadata": {},
   "source": [
    "# Cleaning all data "
   ]
  },
  {
   "cell_type": "code",
   "execution_count": 43,
   "id": "4fec7a68",
   "metadata": {},
   "outputs": [
    {
     "name": "stderr",
     "output_type": "stream",
     "text": [
      "C:\\Users\\HP\\anaconda3\\lib\\site-packages\\bs4\\__init__.py:417: MarkupResemblesLocatorWarning: \"http://www.post-gazette.com/columnists/20020905brian5\n",
      "\" looks like a URL. Beautiful Soup is not an HTTP client. You should probably use an HTTP client like requests to get the document behind the URL, and feed that document to Beautiful Soup.\n",
      "  warnings.warn(\n"
     ]
    },
    {
     "name": "stdout",
     "output_type": "stream",
     "text": [
      "Wall time: 1min 21s\n"
     ]
    }
   ],
   "source": [
    "%%time \n",
    "nest_msg = data.MESSAGE.apply(clean_msg)"
   ]
  },
  {
   "cell_type": "code",
   "execution_count": 44,
   "id": "07ed5117",
   "metadata": {},
   "outputs": [
    {
     "data": {
      "text/plain": [
       "DOC_ID\n",
       "5791    [http, bizarr, collect, stuf, anim, could, fet...\n",
       "5792    [care, use, one, also, realli, cute, thing, ja...\n",
       "5793    [sm, skip, montanaro, write, jeremi, put, anot...\n",
       "5794    [mark, hammond, like, given, zodb, sound, attr...\n",
       "5795    [hi, probabl, use, whatsoev, also, problem, re...\n",
       "Name: MESSAGE, dtype: object"
      ]
     },
     "execution_count": 44,
     "metadata": {},
     "output_type": "execute_result"
    }
   ],
   "source": [
    "nest_msg.tail()"
   ]
  },
  {
   "cell_type": "markdown",
   "id": "45b49086",
   "metadata": {},
   "source": [
    "# Logic to create subsets of dataframe"
   ]
  },
  {
   "cell_type": "code",
   "execution_count": 45,
   "id": "371a50f5",
   "metadata": {},
   "outputs": [
    {
     "data": {
      "text/html": [
       "<div>\n",
       "<style scoped>\n",
       "    .dataframe tbody tr th:only-of-type {\n",
       "        vertical-align: middle;\n",
       "    }\n",
       "\n",
       "    .dataframe tbody tr th {\n",
       "        vertical-align: top;\n",
       "    }\n",
       "\n",
       "    .dataframe thead th {\n",
       "        text-align: right;\n",
       "    }\n",
       "</style>\n",
       "<table border=\"1\" class=\"dataframe\">\n",
       "  <thead>\n",
       "    <tr style=\"text-align: right;\">\n",
       "      <th></th>\n",
       "      <th>MESSAGE</th>\n",
       "      <th>CATEGORY</th>\n",
       "      <th>FILE_NAME</th>\n",
       "    </tr>\n",
       "    <tr>\n",
       "      <th>DOC_ID</th>\n",
       "      <th></th>\n",
       "      <th></th>\n",
       "      <th></th>\n",
       "    </tr>\n",
       "  </thead>\n",
       "  <tbody>\n",
       "    <tr>\n",
       "      <th>0</th>\n",
       "      <td>&lt;!DOCTYPE HTML PUBLIC \"-//W3C//DTD HTML 4.0 Tr...</td>\n",
       "      <td>1</td>\n",
       "      <td>00001.7848dde101aa985090474a91ec93fcf0</td>\n",
       "    </tr>\n",
       "    <tr>\n",
       "      <th>1</th>\n",
       "      <td>1) Fight The Risk of Cancer!\\n\\nhttp://www.adc...</td>\n",
       "      <td>1</td>\n",
       "      <td>00002.d94f1b97e48ed3b553b3508d116e6a09</td>\n",
       "    </tr>\n",
       "    <tr>\n",
       "      <th>2</th>\n",
       "      <td>1) Fight The Risk of Cancer!\\n\\nhttp://www.adc...</td>\n",
       "      <td>1</td>\n",
       "      <td>00003.2ee33bc6eacdb11f38d052c44819ba6c</td>\n",
       "    </tr>\n",
       "    <tr>\n",
       "      <th>3</th>\n",
       "      <td>##############################################...</td>\n",
       "      <td>1</td>\n",
       "      <td>00004.eac8de8d759b7e74154f142194282724</td>\n",
       "    </tr>\n",
       "    <tr>\n",
       "      <th>4</th>\n",
       "      <td>I thought you might like these:\\n\\n1) Slim Dow...</td>\n",
       "      <td>1</td>\n",
       "      <td>00005.57696a39d7d84318ce497886896bf90d</td>\n",
       "    </tr>\n",
       "  </tbody>\n",
       "</table>\n",
       "</div>"
      ],
      "text/plain": [
       "                                                  MESSAGE  CATEGORY  \\\n",
       "DOC_ID                                                                \n",
       "0       <!DOCTYPE HTML PUBLIC \"-//W3C//DTD HTML 4.0 Tr...         1   \n",
       "1       1) Fight The Risk of Cancer!\\n\\nhttp://www.adc...         1   \n",
       "2       1) Fight The Risk of Cancer!\\n\\nhttp://www.adc...         1   \n",
       "3       ##############################################...         1   \n",
       "4       I thought you might like these:\\n\\n1) Slim Dow...         1   \n",
       "\n",
       "                                     FILE_NAME  \n",
       "DOC_ID                                          \n",
       "0       00001.7848dde101aa985090474a91ec93fcf0  \n",
       "1       00002.d94f1b97e48ed3b553b3508d116e6a09  \n",
       "2       00003.2ee33bc6eacdb11f38d052c44819ba6c  \n",
       "3       00004.eac8de8d759b7e74154f142194282724  \n",
       "4       00005.57696a39d7d84318ce497886896bf90d  "
      ]
     },
     "execution_count": 45,
     "metadata": {},
     "output_type": "execute_result"
    }
   ],
   "source": [
    "data[data.CATEGORY == 1].head()"
   ]
  },
  {
   "cell_type": "code",
   "execution_count": 46,
   "id": "99d4e8fe",
   "metadata": {},
   "outputs": [],
   "source": [
    "id_spam = data[data.CATEGORY == 1].index \n",
    "id_ham = data[data.CATEGORY == 0].index "
   ]
  },
  {
   "cell_type": "code",
   "execution_count": 47,
   "id": "e71d0f3b",
   "metadata": {},
   "outputs": [
    {
     "data": {
      "text/plain": [
       "DOC_ID\n",
       "5791    [http, bizarr, collect, stuf, anim, could, fet...\n",
       "5792    [care, use, one, also, realli, cute, thing, ja...\n",
       "5793    [sm, skip, montanaro, write, jeremi, put, anot...\n",
       "5794    [mark, hammond, like, given, zodb, sound, attr...\n",
       "5795    [hi, probabl, use, whatsoev, also, problem, re...\n",
       "Name: MESSAGE, dtype: object"
      ]
     },
     "execution_count": 47,
     "metadata": {},
     "output_type": "execute_result"
    }
   ],
   "source": [
    "nested_ham = nest_msg.loc[id_ham]\n",
    "nested_ham.tail()"
   ]
  },
  {
   "cell_type": "code",
   "execution_count": 48,
   "id": "f42de777",
   "metadata": {},
   "outputs": [
    {
     "data": {
      "text/plain": [
       "DOC_ID\n",
       "1891    [want, boss, train, home, studi, thousand, peo...\n",
       "1892    [messag, mime, format, prefer, doctor, order, ...\n",
       "1893    [dear, subscrib, could, show, way, get, visito...\n",
       "1894    [custom, appreci, sale, express, appreci, loya...\n",
       "1895    [attn, strict, confidenti, pleas, introduc, na...\n",
       "Name: MESSAGE, dtype: object"
      ]
     },
     "execution_count": 48,
     "metadata": {},
     "output_type": "execute_result"
    }
   ],
   "source": [
    "nested_spam = nest_msg.loc[id_spam]\n",
    "nested_spam.tail()"
   ]
  },
  {
   "cell_type": "code",
   "execution_count": 49,
   "id": "1bd012c9",
   "metadata": {},
   "outputs": [
    {
     "data": {
      "text/plain": [
       "20704"
      ]
     },
     "execution_count": 49,
     "metadata": {},
     "output_type": "execute_result"
    }
   ],
   "source": [
    "flat_ham_list = [j for i in nested_ham for j in i]\n",
    "normal_words = pd.Series(flat_ham_list).value_counts()\n",
    "\n",
    "normal_words.shape[0]           # number of unique words in ham"
   ]
  },
  {
   "cell_type": "code",
   "execution_count": 50,
   "id": "50b619da",
   "metadata": {},
   "outputs": [
    {
     "data": {
      "text/plain": [
       "http    6609\n",
       "use     3633\n",
       "list    2880\n",
       "one     2373\n",
       "get     2286\n",
       "dtype: int64"
      ]
     },
     "execution_count": 50,
     "metadata": {},
     "output_type": "execute_result"
    }
   ],
   "source": [
    "normal_words.head()"
   ]
  },
  {
   "cell_type": "code",
   "execution_count": 51,
   "id": "b537e423",
   "metadata": {},
   "outputs": [
    {
     "name": "stdout",
     "output_type": "stream",
     "text": [
      "13186\n"
     ]
    },
    {
     "data": {
      "text/plain": [
       "email     3090\n",
       "http      2902\n",
       "free      2585\n",
       "click     2058\n",
       "receiv    1989\n",
       "list      1971\n",
       "get       1914\n",
       "pleas     1852\n",
       "busi      1792\n",
       "order     1746\n",
       "dtype: int64"
      ]
     },
     "execution_count": 51,
     "metadata": {},
     "output_type": "execute_result"
    }
   ],
   "source": [
    "flat_spam_list = [j for i in nested_spam for j in i]\n",
    "spam_words = pd.Series(flat_spam_list).value_counts()\n",
    "\n",
    "print(spam_words.shape[0])   # number of unique words in ham\n",
    "spam_words[:10]"
   ]
  },
  {
   "cell_type": "markdown",
   "id": "5543eb19",
   "metadata": {},
   "source": [
    "# Word Cloud"
   ]
  },
  {
   "cell_type": "code",
   "execution_count": 52,
   "id": "a27991da",
   "metadata": {},
   "outputs": [],
   "source": [
    "# nltk.download('stopwords')\n",
    "# nltk.download('gutenberg')\n",
    "# nltk.download('shakespeare')\n",
    "# example_corpus = nltk.corpus.gutenberg.words(r\"C:\\Users\\HP\\AppData\\Roaming\\nltk_data\\corpora\\gutenberg\\melville-moby_dick.txt\")\n",
    "# len(example_corpus)\n",
    "# word_list = [''.join(word) for word in example_corpus]\n",
    "# novel_as_string = ' '.join(word_list)\n",
    "\n",
    "# word_cloud = WordCloud().generate(novel_as_string)\n",
    "# plt.imshow(word_cloud)\n",
    "# plt.axis('off')\n",
    "# plt.show()"
   ]
  },
  {
   "cell_type": "markdown",
   "id": "4cc9ae0f",
   "metadata": {},
   "source": [
    "# Vocabulary Dataframe"
   ]
  },
  {
   "cell_type": "code",
   "execution_count": 53,
   "id": "4bed0c30",
   "metadata": {},
   "outputs": [
    {
     "data": {
      "text/html": [
       "<div>\n",
       "<style scoped>\n",
       "    .dataframe tbody tr th:only-of-type {\n",
       "        vertical-align: middle;\n",
       "    }\n",
       "\n",
       "    .dataframe tbody tr th {\n",
       "        vertical-align: top;\n",
       "    }\n",
       "\n",
       "    .dataframe thead th {\n",
       "        text-align: right;\n",
       "    }\n",
       "</style>\n",
       "<table border=\"1\" class=\"dataframe\">\n",
       "  <thead>\n",
       "    <tr style=\"text-align: right;\">\n",
       "      <th></th>\n",
       "      <th>Vocab_word</th>\n",
       "    </tr>\n",
       "    <tr>\n",
       "      <th>WORD_ID</th>\n",
       "      <th></th>\n",
       "    </tr>\n",
       "  </thead>\n",
       "  <tbody>\n",
       "    <tr>\n",
       "      <th>0</th>\n",
       "      <td>http</td>\n",
       "    </tr>\n",
       "    <tr>\n",
       "      <th>1</th>\n",
       "      <td>use</td>\n",
       "    </tr>\n",
       "    <tr>\n",
       "      <th>2</th>\n",
       "      <td>list</td>\n",
       "    </tr>\n",
       "    <tr>\n",
       "      <th>3</th>\n",
       "      <td>one</td>\n",
       "    </tr>\n",
       "    <tr>\n",
       "      <th>4</th>\n",
       "      <td>get</td>\n",
       "    </tr>\n",
       "    <tr>\n",
       "      <th>...</th>\n",
       "      <td>...</td>\n",
       "    </tr>\n",
       "    <tr>\n",
       "      <th>2495</th>\n",
       "      <td>tonight</td>\n",
       "    </tr>\n",
       "    <tr>\n",
       "      <th>2496</th>\n",
       "      <td>codec</td>\n",
       "    </tr>\n",
       "    <tr>\n",
       "      <th>2497</th>\n",
       "      <td>tini</td>\n",
       "    </tr>\n",
       "    <tr>\n",
       "      <th>2498</th>\n",
       "      <td>centr</td>\n",
       "    </tr>\n",
       "    <tr>\n",
       "      <th>2499</th>\n",
       "      <td>council</td>\n",
       "    </tr>\n",
       "  </tbody>\n",
       "</table>\n",
       "<p>2500 rows × 1 columns</p>\n",
       "</div>"
      ],
      "text/plain": [
       "        Vocab_word\n",
       "WORD_ID           \n",
       "0             http\n",
       "1              use\n",
       "2             list\n",
       "3              one\n",
       "4              get\n",
       "...            ...\n",
       "2495       tonight\n",
       "2496         codec\n",
       "2497          tini\n",
       "2498         centr\n",
       "2499       council\n",
       "\n",
       "[2500 rows x 1 columns]"
      ]
     },
     "execution_count": 53,
     "metadata": {},
     "output_type": "execute_result"
    }
   ],
   "source": [
    "word_id = list(range(0, 2500))\n",
    "vocab = pd.DataFrame({'Vocab_word': normal_words[:2500].index.values}, index = word_id)\n",
    "vocab.index.name = 'WORD_ID'\n",
    "vocab"
   ]
  },
  {
   "cell_type": "markdown",
   "id": "1dcf36af",
   "metadata": {},
   "source": [
    "# Save data as .csv"
   ]
  },
  {
   "cell_type": "code",
   "execution_count": 54,
   "id": "3ba2a66d",
   "metadata": {},
   "outputs": [],
   "source": [
    "vocab.to_csv(WORD_ID_FILE, index_label=vocab.index.name, header=vocab.Vocab_word.name)"
   ]
  },
  {
   "cell_type": "code",
   "execution_count": 55,
   "id": "74a366da",
   "metadata": {},
   "outputs": [
    {
     "data": {
      "text/plain": [
       "True"
      ]
     },
     "execution_count": 55,
     "metadata": {},
     "output_type": "execute_result"
    }
   ],
   "source": [
    "'learn' in set(vocab.Vocab_word)"
   ]
  },
  {
   "cell_type": "code",
   "execution_count": 56,
   "id": "9979e636",
   "metadata": {},
   "outputs": [
    {
     "name": "stdout",
     "output_type": "stream",
     "text": [
      "7671\n"
     ]
    },
    {
     "data": {
      "text/plain": [
       "5775"
      ]
     },
     "execution_count": 56,
     "metadata": {},
     "output_type": "execute_result"
    }
   ],
   "source": [
    "email_length = [len(i) for i in nest_msg]\n",
    "print(max(email_length))\n",
    "np.argmax(email_length)"
   ]
  },
  {
   "cell_type": "code",
   "execution_count": 57,
   "id": "1b4b711b",
   "metadata": {},
   "outputs": [
    {
     "data": {
      "text/plain": [
       "'------------------------ Yahoo! Groups Sponsor ---------------------~-->\\n\\n4 DVDs Free +s&p Join Now\\n\\nhttp://us.click.yahoo.com/pt6YBB/NXiEAA/Ey.GAA/26EolB/TM\\n\\n---------------------------------------------------------------------~->\\n\\n\\n\\nA new version of unison is now available for testing.  It incorporates\\n\\nseveral small improvements over 2.9.1, but the main change is a fix to\\n\\na bug that had potentially serious safety consequences, but only for\\n\\nthe very small number of users that are in the habit of running more\\n\\nthan one instance of Unison at a time, in parallel.  These users are\\n\\nstrongly encouraged to upgrade.  Others can wait if they wish.\\n\\n\\n\\nThe release includes pre-built executables for Linux and Solaris, but\\n\\nnot Windows.  (We are looking for a Unison-Windows maintainer -- at\\n\\nthe moment, none of the active developers are regularly using Unison\\n\\non Windows, and we do not have a machine that is configured properly\\n\\nfor building executables for export.)\\n\\n\\n\\nGrab it from here:\\n\\n   http://www.cis.upenn.edu/~bcpierce/unison/download.html\\n\\n\\n\\nEnjoy,\\n\\n\\n\\n        -- Benjamin\\n\\n\\n\\n   Changes since 2.9.1:\\n\\n     * Added a preference maxthreads that can be used to limit the number\\n\\n       of simultaneous file transfers.\\n\\n     * Added a backupdir preference, which controls where backup files\\n\\n       are stored.\\n\\n     * Basic support added for OSX. In particular, Unison now recognizes\\n\\n       when one of the hosts being synchronized is running OSX and\\n\\n       switches to a case-insensitive treatment of filenames (i.e., \\'foo\\'\\n\\n       and \\'FOO\\' are considered to be the same file). (OSX is not yet\\n\\n       fully working, however: in particular, files with resource forks\\n\\n       will not be synchronized correctly.)\\n\\n     * The same hash used to form the archive name is now also added to\\n\\n       the names of the temp files created during file transfer. The\\n\\n       reason for this is that, during update detection, we are going to\\n\\n       silently delete any old temp files that we find along the way, and\\n\\n       we want to prevent ourselves from deleting temp files belonging to\\n\\n       other instances of Unison that may be running in parallel, e.g.\\n\\n       synchronizing with a different host. Thanks to Ruslan Ermilov for\\n\\n       this suggestion.\\n\\n     * Several small user interface improvements\\n\\n     * Documentation\\n\\n          + FAQ and bug reporting instructions have been split out as\\n\\n            separate HTML pages, accessible directly from the unison web\\n\\n            page.\\n\\n          + Additions to FAQ, in particular suggestions about performance\\n\\n            tuning.\\n\\n     * Makefile\\n\\n          + Makefile.OCaml now sets UISTYLE=text or UISTYLE=gtk\\n\\n            automatically, depending on whether it finds lablgtk\\n\\n            installed\\n\\n          + Unison should now compile ``out of the box\\'\\' under OSX\\n\\n       \\n\\n   Changes since 2.8.1:\\n\\n     * Changing profile works again under Windows\\n\\n     * File movement optimization: Unison now tries to use local copy\\n\\n       instead of transfer for moved or copied files. It is controled by\\n\\n       a boolean option ``xferbycopying\\'\\'.\\n\\n     * Network statistics window (transfer rate, amount of data\\n\\n       transferred). [NB: not available in Windows-Cygwin version.]\\n\\n     * symlinks work under the cygwin version (which is dynamically\\n\\n       linked).\\n\\n     * Fixed potential deadlock when synchronizing between Windows and\\n\\n       Unix\\n\\n     * Small improvements:\\n\\n          + If neither the\\n\\n            tt USERPROFILE nor the\\n\\n            tt HOME environment variables are set, then Unison will put\\n\\n            its temporary commit log (called\\n\\n            tt DANGER.README) into the directory named by the\\n\\n            tt UNISON environment variable, if any; otherwise it will use\\n\\n            tt C:.\\n\\n          + alternative set of values for fastcheck: yes = true; no =\\n\\n            false; default = auto.\\n\\n          + -silent implies -contactquietly\\n\\n     * Source code:\\n\\n          + Code reorganization and tidying. (Started breaking up some of\\n\\n            the basic utility modules so that the non-unison-specific\\n\\n            stuff can be made available for other projects.)\\n\\n          + several Makefile and docs changes (for release);\\n\\n          + further comments in ``update.ml\\'\\';\\n\\n          + connection information is not stored in global variables\\n\\n            anymore.\\n\\n       \\n\\n   Changes since 2.7.78:\\n\\n     * Small bugfix to textual user interface under Unix (to avoid\\n\\n       leaving the terminal in a bad state where it would not echo inputs\\n\\n       after Unison exited).\\n\\n       \\n\\n   Changes since 2.7.39:\\n\\n     * Improvements to the main web page (stable and beta version docs\\n\\n       are now both accessible).\\n\\n     * User manual revised.\\n\\n     * Added some new preferences:\\n\\n          + ``sshcmd\\'\\' and ``rshcmd\\'\\' for specifying paths to ssh and rsh\\n\\n            programs.\\n\\n          + ``contactquietly\\'\\' for suppressing the ``contacting server\\'\\'\\n\\n            message during Unison startup (under the graphical UI).\\n\\n     * Bug fixes:\\n\\n          + Fixed small bug in UI that neglected to change the displayed\\n\\n            column headers if loading a new profile caused the roots to\\n\\n            change.\\n\\n          + Fixed a bug that would put the text UI into an infinite loop\\n\\n            if it encountered a conflict when run in batch mode.\\n\\n          + Added some code to try to fix the display of non-Ascii\\n\\n            characters in filenames on Windows systems in the GTK UI.\\n\\n            (This code is currently untested---if you\\'re one of the\\n\\n            people that had reported problems with display of non-ascii\\n\\n            filenames, we\\'d appreciate knowing if this actually fixes\\n\\n            things.)\\n\\n          + `-prefer/-force newer\\' works properly now. (The bug was\\n\\n            reported by Sebastian Urbaniak and Sean Fulton.)\\n\\n     * User interface and Unison behavior:\\n\\n          + Renamed `Proceed\\' to `Go\\' in the graphical UI.\\n\\n          + Added exit status for the textual user interface.\\n\\n          + Paths that are not synchronized because of conflicts or\\n\\n            errors during update detection are now noted in the log file.\\n\\n          + [END] messages in log now use a briefer format\\n\\n          + Changed the text UI startup sequence so that\\n\\n            tt ./unison -ui text will use the default profile instead of\\n\\n            failing.\\n\\n          + Made some improvements to the error messages.\\n\\n          + Added some debugging messages to remote.ml.\\n\\n       \\n\\n   Changes since 2.7.7:\\n\\n     * Incorporated, once again, a multi-threaded transport sub-system.\\n\\n       It transfers several files at the same time, thereby making much\\n\\n       more effective use of available network bandwidth. Unlike the\\n\\n       earlier attempt, this time we do not rely on the native thread\\n\\n       library of OCaml. Instead, we implement a light-weight,\\n\\n       non-preemptive multi-thread library in OCaml directly. This\\n\\n       version appears stable.\\n\\n       Some adjustments to unison are made to accommodate the\\n\\n       multi-threaded version. These include, in particular, changes to\\n\\n       the user interface and logging, for example:\\n\\n          + Two log entries for each transferring task, one for the\\n\\n            beginning, one for the end.\\n\\n          + Suppressed warning messages against removing temp files left\\n\\n            by a previous unison run, because warning does not work\\n\\n            nicely under multi-threading. The temp file names are made\\n\\n            less likely to coincide with the name of a file created by\\n\\n            the user. They take the form\\n\\n            .#<filename>.<serial>.unison.tmp.\\n\\n     * Added a new command to the GTK user interface: pressing \\'f\\' causes\\n\\n       Unison to start a new update detection phase, using as paths just\\n\\n       those paths that have been detected as changed and not yet marked\\n\\n       as successfully completed. Use this command to quickly restart\\n\\n       Unison on just the set of paths still needing attention after a\\n\\n       previous run.\\n\\n     * Made the ignorecase preference user-visible, and changed the\\n\\n       initialization code so that it can be manually set to true, even\\n\\n       if neither host is running Windows. (This may be useful, e.g.,\\n\\n       when using Unison running on a Unix system with a FAT volume\\n\\n       mounted.)\\n\\n     * Small improvements and bug fixes:\\n\\n          + Errors in preference files now generate fatal errors rather\\n\\n            than warnings at startup time. (I.e., you can\\'t go on from\\n\\n            them.) Also, we fixed a bug that was preventing these\\n\\n            warnings from appearing in the text UI, so some users who\\n\\n            have been running (unsuspectingly) with garbage in their\\n\\n            prefs files may now get error reports.\\n\\n          + Error reporting for preference files now provides file name\\n\\n            and line number.\\n\\n          + More intelligible message in the case of identical change to\\n\\n            the same files: ``Nothing to do: replicas have been changed\\n\\n            only in identical ways since last sync.\\'\\'\\n\\n          + Files with prefix \\'.#\\' excluded when scanning for preference\\n\\n            files.\\n\\n          + Rsync instructions are send directly instead of first\\n\\n            marshaled.\\n\\n          + Won\\'t try forever to get the fingerprint of a continuously\\n\\n            changing file: unison will give up after certain number of\\n\\n            retries.\\n\\n          + Other bug fixes, including the one reported by Peter Selinger\\n\\n            (force=older preference not working).\\n\\n     * Compilation:\\n\\n          + Upgraded to the new OCaml 3.04 compiler, with the LablGtk\\n\\n            1.2.3 library (patched version used for compiling under\\n\\n            Windows).\\n\\n          + Added the option to compile unison on the Windows platform\\n\\n            with Cygwin GNU C compiler. This option only supports\\n\\n            building dynamically linked unison executables.\\n\\n       \\n\\n   Changes since 2.7.4:\\n\\n     * Fixed a silly (but debilitating) bug in the client startup\\n\\n       sequence.\\n\\n       \\n\\n   Changes since 2.7.1:\\n\\n     * Added addprefsto preference, which (when set) controls which\\n\\n       preference file new preferences (e.g. new ignore patterns) are\\n\\n       added to.\\n\\n     * Bug fix: read the initial connection header one byte at a time, so\\n\\n       that we don\\'t block if the header is shorter than expected. (This\\n\\n       bug did not affect normal operation --- it just made it hard to\\n\\n       tell when you were trying to use Unison incorrectly with an old\\n\\n       version of the server, since it would hang instead of giving an\\n\\n       error message.)\\n\\n       \\n\\n   Changes since 2.6.59:\\n\\n     * Changed fastcheck from a boolean to a string preference. Its legal\\n\\n       values are yes (for a fast check), no (for a safe check), or\\n\\n       default (for a fast check---which also happens to be safe---when\\n\\n       running on Unix and a safe check when on Windows). The default is\\n\\n       default.\\n\\n     * Several preferences have been renamed for consistency. All\\n\\n       preference names are now spelled out in lowercase. For backward\\n\\n       compatibility, the old names still work, but they are not\\n\\n       mentioned in the manual any more.\\n\\n     * The temp files created by the \\'diff\\' and \\'merge\\' commands are now\\n\\n       named by prepending a new prefix to the file name, rather than\\n\\n       appending a suffix. This should avoid confusing diff/merge\\n\\n       programs that depend on the suffix to guess the type of the file\\n\\n       contents.\\n\\n     * We now set the keepalive option on the server socket, to make sure\\n\\n       that the server times out if the communication link is\\n\\n       unexpectedly broken.\\n\\n     * Bug fixes:\\n\\n          + When updating small files, Unison now closes the destination\\n\\n            file.\\n\\n          + File permissions are properly updated when the file is behind\\n\\n            a followed link.\\n\\n          + Several other small fixes.\\n\\n       \\n\\n   Changes since 2.6.38:\\n\\n     * Major Windows performance improvement!\\n\\n       We\\'ve added a preference fastcheck that makes Unison look only at\\n\\n       a file\\'s creation time and last-modified time to check whether it\\n\\n       has changed. This should result in a huge speedup when checking\\n\\n       for updates in large replicas.\\n\\n       When this switch is set, Unison will use file creation times as\\n\\n       \\'pseudo inode numbers\\' when scanning Windows replicas for updates,\\n\\n       instead of reading the full contents of every file. This may cause\\n\\n       Unison to miss propagating an update if the create time,\\n\\n       modification time, and length of the file are all unchanged by the\\n\\n       update (this is not easy to achieve, but it can be done). However,\\n\\n       Unison will never overwrite such an update with a change from the\\n\\n       other replica, since it always does a safe check for updates just\\n\\n       before propagating a change. Thus, it is reasonable to use this\\n\\n       switch most of the time and occasionally run Unison once with\\n\\n       fastcheck set to false, if you are worried that Unison may have\\n\\n       overlooked an update.\\n\\n       Warning: This change is has not yet been thoroughly field-tested.\\n\\n       If you set the fastcheck preference, pay careful attention to what\\n\\n       Unison is doing.\\n\\n     * New functionality: centralized backups and merging\\n\\n          + This version incorporates two pieces of major new\\n\\n            functionality, implemented by Sylvain Roy during a summer\\n\\n            internship at Penn: a centralized backup facility that keeps\\n\\n            a full backup of (selected files in) each replica, and a\\n\\n            merging feature that allows Unison to invoke an external\\n\\n            file-merging tool to resolve conflicting changes to\\n\\n            individual files.\\n\\n          + Centralized backups:\\n\\n               o Unison now maintains full backups of the\\n\\n                 last-synchronized versions of (some of) the files in\\n\\n                 each replica; these function both as backups in the\\n\\n                 usual sense and as the ``common version\\'\\' when invoking\\n\\n                 external merge programs.\\n\\n               o The backed up files are stored in a directory\\n\\n                 /.unison/backup on each host. (The name of this\\n\\n                 directory can be changed by setting the environment\\n\\n                 variable UNISONBACKUPDIR.)\\n\\n               o The predicate backup controls which files are actually\\n\\n                 backed up: giving the preference \\'backup = Path *\\'\\n\\n                 causes backing up of all files.\\n\\n               o Files are added to the backup directory whenever unison\\n\\n                 updates its archive. This means that\\n\\n                    # When unison reconstructs its archive from scratch\\n\\n                      (e.g., because of an upgrade, or because the\\n\\n                      archive files have been manually deleted), all\\n\\n                      files will be backed up.\\n\\n                    # Otherwise, each file will be backed up the first\\n\\n                      time unison propagates an update for it.\\n\\n               o The preference backupversions controls how many previous\\n\\n                 versions of each file are kept. The default is 2 (i.e.,\\n\\n                 the last synchronized version plus one backup).\\n\\n               o For backward compatibility, the backups preference is\\n\\n                 also still supported, but backup is now preferred.\\n\\n               o It is OK to manually delete files from the backup\\n\\n                 directory (or to throw away the directory itself).\\n\\n                 Before unison uses any of these files for anything\\n\\n                 important, it checks that its fingerprint matches the\\n\\n                 one that it expects.\\n\\n          + Merging:\\n\\n               o Both user interfaces offer a new \\'merge\\' command,\\n\\n                 invoked by pressing \\'m\\' (with a changed file selected).\\n\\n               o The actual merging is performed by an external program.\\n\\n                 The preferences merge and merge2 control how this\\n\\n                 program is invoked. If a backup exists for this file\\n\\n                 (see the backup preference), then the merge preference\\n\\n                 is used for this purpose; otherwise merge2 is used. In\\n\\n                 both cases, the value of the preference should be a\\n\\n                 string representing the command that should be passed to\\n\\n                 a shell to invoke the merge program. Within this string,\\n\\n                 the special substrings CURRENT1, CURRENT2, NEW, and OLD\\n\\n                 may appear at any point. Unison will substitute these as\\n\\n                 follows before invoking the command:\\n\\n                    # CURRENT1 is replaced by the name of the local copy\\n\\n                      of the file;\\n\\n                    # CURRENT2 is replaced by the name of a temporary\\n\\n                      file, into which the contents of the remote copy of\\n\\n                      the file have been transferred by Unison prior to\\n\\n                      performing the merge;\\n\\n                    # NEW is replaced by the name of a temporary file\\n\\n                      that Unison expects to be written by the merge\\n\\n                      program when it finishes, giving the desired new\\n\\n                      contents of the file; and\\n\\n                    # OLD is replaced by the name of the backed up copy\\n\\n                      of the original version of the file (i.e., its\\n\\n                      state at the end of the last successful run of\\n\\n                      Unison), if one exists (applies only to merge, not\\n\\n                      merge2).\\n\\n                 For example, on Unix systems setting the merge\\n\\n                 preference to\\n\\n\\n\\n   merge = diff3 -m CURRENT1 OLD CURRENT2 > NEW\\n\\n                 will tell Unison to use the external diff3 program for\\n\\n                 merging.\\n\\n                 A large number of external merging programs are\\n\\n                 available. For example, emacs users may find the\\n\\n                 following convenient:\\n\\n\\n\\n    merge2 = emacs -q --eval \\'(ediff-merge-files \"CURRENT1\" \"CURRENT2\"\\n\\n               nil \"NEW\")\\'\\n\\n    merge = emacs -q --eval \\'(ediff-merge-files-with-ancestor\\n\\n               \"CURRENT1\" \"CURRENT2\" \"OLD\" nil \"NEW\")\\'\\n\\n                 (These commands are displayed here on two lines to avoid\\n\\n                 running off the edge of the page. In your preference\\n\\n                 file, each should be written on a single line.)\\n\\n               o If the external program exits without leaving any file\\n\\n                 at the path NEW, Unison considers the merge to have\\n\\n                 failed. If the merge program writes a file called NEW\\n\\n                 but exits with a non-zero status code, then Unison\\n\\n                 considers the merge to have succeeded but to have\\n\\n                 generated conflicts. In this case, it attempts to invoke\\n\\n                 an external editor so that the user can resolve the\\n\\n                 conflicts. The value of the editor preference controls\\n\\n                 what editor is invoked by Unison. The default is emacs.\\n\\n               o Please send us suggestions for other useful values of\\n\\n                 the merge2 and merge preferences -- we\\'d like to give\\n\\n                 several examples in the manual.\\n\\n     * Smaller changes:\\n\\n          + When one preference file includes another, unison no longer\\n\\n            adds the suffix \\'.prf\\' to the included file by default. If a\\n\\n            file with precisely the given name exists in the .unison\\n\\n            directory, it will be used; otherwise Unison will add .prf,\\n\\n            as it did before. (This change means that included preference\\n\\n            files can be named blah.include instead of blah.prf, so that\\n\\n            unison will not offer them in its \\'choose a preference file\\'\\n\\n            dialog.)\\n\\n          + For Linux systems, we now offer both a statically linked and\\n\\n            a dynamically linked executable. The static one is larger,\\n\\n            but will probably run on more systems, since it doesn\\'t\\n\\n            depend on the same versions of dynamically linked library\\n\\n            modules being available.\\n\\n          + Fixed the force and prefer preferences, which were getting\\n\\n            the propagation direction exactly backwards.\\n\\n          + Fixed a bug in the startup code that would cause unison to\\n\\n            crash when the default profile (~/.unison/default.prf) does\\n\\n            not exist.\\n\\n          + Fixed a bug where, on the run when a profile is first\\n\\n            created, Unison would confusingly display the roots in\\n\\n            reverse order in the user interface.\\n\\n     * For developers:\\n\\n          + We\\'ve added a module dependency diagram to the source\\n\\n            distribution, in src/DEPENDENCIES.ps, to help new prospective\\n\\n            developers with navigating the code.\\n\\n       \\n\\n   Changes since 2.6.11:\\n\\n     * INCOMPATIBLE CHANGE: Archive format has changed.\\n\\n     * INCOMPATIBLE CHANGE: The startup sequence has been completely\\n\\n       rewritten and greatly simplified. The main user-visible change is\\n\\n       that the defaultpath preference has been removed. Its effect can\\n\\n       be approximated by using multiple profiles, with include\\n\\n       directives to incorporate common settings. All uses of defaultpath\\n\\n       in existing profiles should be changed to path.\\n\\n       Another change in startup behavior that will affect some users is\\n\\n       that it is no longer possible to specify roots both in the profile\\n\\n       and on the command line.\\n\\n       You can achieve a similar effect, though, by breaking your profile\\n\\n       into two:\\n\\n\\n\\n\\n\\n  default.prf =\\n\\n      root = blah\\n\\n      root = foo\\n\\n      include common\\n\\n\\n\\n  common.prf =\\n\\n      <everything else>\\n\\n       Now do\\n\\n\\n\\n  unison common root1 root2\\n\\n       when you want to specify roots explicitly.\\n\\n     * The -prefer and -force options have been extended to allow users\\n\\n       to specify that files with more recent modtimes should be\\n\\n       propagated, writing either -prefer newer or -force newer. (For\\n\\n       symmetry, Unison will also accept -prefer older or -force older.)\\n\\n       The -force older/newer options can only be used when -times is\\n\\n       also set.\\n\\n       The graphical user interface provides access to these facilities\\n\\n       on a one-off basis via the Actions menu.\\n\\n     * Names of roots can now be ``aliased\\'\\' to allow replicas to be\\n\\n       relocated without changing the name of the archive file where\\n\\n       Unison stores information between runs. (This feature is for\\n\\n       experts only. See the ``Archive Files\\'\\' section of the manual for\\n\\n       more information.)\\n\\n     * Graphical user-interface:\\n\\n          + A new command is provided in the Synchronization menu for\\n\\n            switching to a new profile without restarting Unison from\\n\\n            scratch.\\n\\n          + The GUI also supports one-key shortcuts for commonly used\\n\\n            profiles. If a profile contains a preference of the form \\'key\\n\\n            = n\\', where n is a single digit, then pressing this key will\\n\\n            cause Unison to immediately switch to this profile and begin\\n\\n            synchronization again from scratch. (Any actions that may\\n\\n            have been selected for a set of changes currently being\\n\\n            displayed will be discarded.)\\n\\n          + Each profile may include a preference \\'label = <string>\\'\\n\\n            giving a descriptive string that described the options\\n\\n            selected in this profile. The string is listed along with the\\n\\n            profile name in the profile selection dialog, and displayed\\n\\n            in the top-right corner of the main Unison window.\\n\\n     * Minor:\\n\\n          + Fixed a bug that would sometimes cause the \\'diff\\' display to\\n\\n            order the files backwards relative to the main user\\n\\n            interface. (Thanks to Pascal Brisset for this fix.)\\n\\n          + On Unix systems, the graphical version of Unison will check\\n\\n            the DISPLAY variable and, if it is not set, automatically\\n\\n            fall back to the textual user interface.\\n\\n          + Synchronization paths (path preferences) are now matched\\n\\n            against the ignore preferences. So if a path is both\\n\\n            specified in a path preference and ignored, it will be\\n\\n            skipped.\\n\\n          + Numerous other bugfixes and small improvements.\\n\\n       \\n\\n   Changes since 2.6.1:\\n\\n     * The synchronization of modification times has been disabled for\\n\\n       directories.\\n\\n     * Preference files may now include lines of the form include <name>,\\n\\n       which will cause name.prf to be read at that point.\\n\\n     * The synchronization of permission between Windows and Unix now\\n\\n       works properly.\\n\\n     * A binding CYGWIN=binmode in now added to the environment so that\\n\\n       the Cygwin port of OpenSSH works properly in a non-Cygwin context.\\n\\n     * The servercmd and addversionno preferences can now be used\\n\\n       together: -addversionno appends an appropriate -NNN to the server\\n\\n       command, which is found by using the value of the -servercmd\\n\\n       preference if there is one, or else just unison.\\n\\n     * Both \\'-pref=val\\' and \\'-pref val\\' are now allowed for boolean\\n\\n       values. (The former can be used to set a preference to false.)\\n\\n     * Lot of small bugs fixed.\\n\\n       \\n\\n   Changes since 2.5.31:\\n\\n     * The log preference is now set to true by default, since the log\\n\\n       file seems useful for most users.\\n\\n     * Several miscellaneous bugfixes (most involving symlinks).\\n\\n       \\n\\n   Changes since 2.5.25:\\n\\n     * INCOMPATIBLE CHANGE: Archive format has changed (again).\\n\\n     * Several significant bugs introduced in 2.5.25 have been fixed.\\n\\n       \\n\\n   Changes since 2.5.1:\\n\\n     * INCOMPATIBLE CHANGE: Archive format has changed. Make sure you\\n\\n       synchronize your replicas before upgrading, to avoid spurious\\n\\n       conflicts. The first sync after upgrading will be slow.\\n\\n     * New functionality:\\n\\n          + Unison now synchronizes file modtimes, user-ids, and\\n\\n            group-ids.\\n\\n            These new features are controlled by a set of new\\n\\n            preferences, all of which are currently false by default.\\n\\n               o When the times preference is set to true, file\\n\\n                 modification times are propaged. (Because the\\n\\n                 representations of time may not have the same\\n\\n                 granularity on both replicas, Unison may not always be\\n\\n                 able to make the modtimes precisely equal, but it will\\n\\n                 get them as close as the operating systems involved\\n\\n                 allow.)\\n\\n               o When the owner preference is set to true, file ownership\\n\\n                 information is synchronized.\\n\\n               o When the group preference is set to true, group\\n\\n                 information is synchronized.\\n\\n               o When the numericIds preference is set to true, owner and\\n\\n                 group information is synchronized numerically. By\\n\\n                 default, owner and group numbers are converted to names\\n\\n                 on each replica and these names are synchronized. (The\\n\\n                 special user id 0 and the special group 0 are never\\n\\n                 mapped via user/group names even if this preference is\\n\\n                 not set.)\\n\\n          + Added an integer-valued preference perms that can be used to\\n\\n            control the propagation of permission bits. The value of this\\n\\n            preference is a mask indicating which permission bits should\\n\\n            be synchronized. It is set by default to 0o1777: all bits but\\n\\n            the set-uid and set-gid bits are synchronised (synchronizing\\n\\n            theses latter bits can be a security hazard). If you want to\\n\\n            synchronize all bits, you can set the value of this\\n\\n            preference to -1.\\n\\n          + Added a log preference (default false), which makes Unison\\n\\n            keep a complete record of the changes it makes to the\\n\\n            replicas. By default, this record is written to a file called\\n\\n            unison.log in the user\\'s home directory (the value of the\\n\\n            HOME environment variable). If you want it someplace else,\\n\\n            set the logfile preference to the full pathname you want\\n\\n            Unison to use.\\n\\n          + Added an ignorenot preference that maintains a set of\\n\\n            patterns for paths that should definitely not be ignored,\\n\\n            whether or not they match an ignore pattern. (That is, a path\\n\\n            will now be ignored iff it matches an ignore pattern and does\\n\\n            not match any ignorenot patterns.)\\n\\n     * User-interface improvements:\\n\\n          + Roots are now displayed in the user interface in the same\\n\\n            order as they were given on the command line or in the\\n\\n            preferences file.\\n\\n          + When the batch preference is set, the graphical user\\n\\n            interface no longer waits for user confirmation when it\\n\\n            displays a warning message: it simply pops up an advisory\\n\\n            window with a Dismiss button at the bottom and keeps on\\n\\n            going.\\n\\n          + Added a new preference for controlling how many status\\n\\n            messages are printed during update detection: statusdepth\\n\\n            controls the maximum depth for paths on the local machine\\n\\n            (longer paths are not displayed, nor are non-directory\\n\\n            paths). The value should be an integer; default is 1.\\n\\n          + Removed the trace and silent preferences. They did not seem\\n\\n            very useful, and there were too many preferences for\\n\\n            controlling output in various ways.\\n\\n          + The text UI now displays just the default command (the one\\n\\n            that will be used if the user just types <return>) instead of\\n\\n            all available commands. Typing ? will print the full list of\\n\\n            possibilities.\\n\\n          + The function that finds the canonical hostname of the local\\n\\n            host (which is used, for example, in calculating the name of\\n\\n            the archive file used to remember which files have been\\n\\n            synchronized) normally uses the gethostname operating system\\n\\n            call. However, if the environment variable\\n\\n            UNISONLOCALHOSTNAME is set, its value will now be used\\n\\n            instead. This makes it easier to use Unison in situations\\n\\n            where a machine\\'s name changes frequently (e.g., because it\\n\\n            is a laptop and gets moved around a lot).\\n\\n          + File owner and group are now displayed in the ``detail\\n\\n            window\\'\\' at the bottom of the screen, when unison is\\n\\n            configured to synchronize them.\\n\\n     * For hackers:\\n\\n          + Updated to Jacques Garrigue\\'s new version of lablgtk, which\\n\\n            means we can throw away our local patched version.\\n\\n            If you\\'re compiling the GTK version of unison from sources,\\n\\n            you\\'ll need to update your copy of lablgtk to the developers\\n\\n            release, available from\\n\\n            http://wwwfun.kurims.kyoto-u.ac.jp/soft/olabl/lablgtk.html\\n\\n            (Warning: installing lablgtk under Windows is currently a bit\\n\\n            challenging.)\\n\\n          + The TODO.txt file (in the source distribution) has been\\n\\n            cleaned up and reorganized. The list of pending tasks should\\n\\n            be much easier to make sense of, for people that may want to\\n\\n            contribute their programming energies. There is also a\\n\\n            separate file BUGS.txt for open bugs.\\n\\n          + The Tk user interface has been removed (it was not being\\n\\n            maintained and no longer compiles).\\n\\n          + The debug preference now prints quite a bit of additional\\n\\n            information that should be useful for identifying sources of\\n\\n            problems.\\n\\n          + The version number of the remote server is now checked right\\n\\n            away during the connection setup handshake, rather than\\n\\n            later. (Somebody sent a bug report of a server crash that\\n\\n            turned out to come from using inconsistent versions: better\\n\\n            to check this earlier and in a way that can\\'t crash either\\n\\n            client or server.)\\n\\n          + Unison now runs correctly on 64-bit architectures (e.g. Alpha\\n\\n            linux). We will not be distributing binaries for these\\n\\n            architectures ourselves (at least for a while) but if someone\\n\\n            would like to make them available, we\\'ll be glad to provide a\\n\\n            link to them.\\n\\n     * Bug fixes:\\n\\n          + Pattern matching (e.g. for ignore) is now case-insensitive\\n\\n            when Unison is in case-insensitive mode (i.e., when one of\\n\\n            the replicas is on a windows machine).\\n\\n          + Some people had trouble with mysterious failures during\\n\\n            propagation of updates, where files would be falsely reported\\n\\n            as having changed during synchronization. This should be\\n\\n            fixed.\\n\\n          + Numerous smaller fixes.\\n\\n       \\n\\n   Changes since 2.4.1:\\n\\n     * Added a number of \\'sorting modes\\' for the user interface. By\\n\\n       default, conflicting changes are displayed at the top, and the\\n\\n       rest of the entries are sorted in alphabetical order. This\\n\\n       behavior can be changed in the following ways:\\n\\n          + Setting the sortnewfirst preference to true causes newly\\n\\n            created files to be displayed before changed files.\\n\\n          + Setting sortbysize causes files to be displayed in increasing\\n\\n            order of size.\\n\\n          + Giving the preference sortfirst=<pattern> (where <pattern> is\\n\\n            a path descriptor in the same format as \\'ignore\\' and \\'follow\\'\\n\\n            patterns, causes paths matching this pattern to be displayed\\n\\n            first.\\n\\n          + Similarly, giving the preference sortlast=<pattern> causes\\n\\n            paths matching this pattern to be displayed last.\\n\\n       The sorting preferences are described in more detail in the user\\n\\n       manual. The sortnewfirst and sortbysize flags can also be accessed\\n\\n       from the \\'Sort\\' menu in the grpahical user interface.\\n\\n     * Added two new preferences that can be used to change unison\\'s\\n\\n       fundamental behavior to make it more like a mirroring tool instead\\n\\n       of a synchronizer.\\n\\n          + Giving the preference prefer with argument <root> (by adding\\n\\n            -prefer <root> to the command line or prefer=<root>) to your\\n\\n            profile) means that, if there is a conflict, the contents of\\n\\n            <root> should be propagated to the other replica (with no\\n\\n            questions asked). Non-conflicting changes are treated as\\n\\n            usual.\\n\\n          + Giving the preference force with argument <root> will make\\n\\n            unison resolve all differences in favor of the given root,\\n\\n            even if it was the other replica that was changed.\\n\\n       These options should be used with care! (More information is\\n\\n       available in the manual.)\\n\\n     * Small changes:\\n\\n          + Changed default answer to \\'Yes\\' in all two-button dialogs in\\n\\n            the graphical interface (this seems more intuitive).\\n\\n          + The rsync preference has been removed (it was used to\\n\\n            activate rsync compression for file transfers, but rsync\\n\\n            compression is now enabled by default).\\n\\n          + In the text user interface, the arrows indicating which\\n\\n            direction changes are being propagated are printed\\n\\n            differently when the user has overridded Unison\\'s default\\n\\n            recommendation (====> instead of ---->). This matches the\\n\\n            behavior of the graphical interface, which displays such\\n\\n            arrows in a different color.\\n\\n          + Carriage returns (Control-M\\'s) are ignored at the ends of\\n\\n            lines in profiles, for Windows compatibility.\\n\\n          + All preferences are now fully documented in the user manual.\\n\\n       \\n\\n   Changes since 2.3.12:\\n\\n     * INCOMPATIBLE CHANGE: Archive format has changed. Make sure you\\n\\n       synchronize your replicas before upgrading, to avoid spurious\\n\\n       conflicts. The first sync after upgrading will be slow.\\n\\n     * New/improved functionality:\\n\\n          + A new preference -sortbysize controls the order in which\\n\\n            changes are displayed to the user: when it is set to true,\\n\\n            the smallest changed files are displayed first. (The default\\n\\n            setting is false.)\\n\\n          + A new preference -sortnewfirst causes newly created files to\\n\\n            be listed before other updates in the user interface.\\n\\n          + We now allow the ssh protocol to specify a port.\\n\\n          + Incompatible change: The unison: protocol is deprecated, and\\n\\n            we added file: and socket:. You may have to modify your\\n\\n            profiles in the .unison directory. If a replica is specified\\n\\n            without an explicit protocol, we now assume it refers to a\\n\\n            file. (Previously \"//saul/foo\" meant to use SSH to connect to\\n\\n            saul, then access the foo directory. Now it means to access\\n\\n            saul via a remote file mechanism such as samba; the old\\n\\n            effect is now achieved by writing ssh://saul/foo.)\\n\\n          + Changed the startup sequence for the case where roots are\\n\\n            given but no profile is given on the command line. The new\\n\\n            behavior is to use the default profile (creating it if it\\n\\n            does not exist), and temporarily override its roots. The\\n\\n            manual claimed that this case would work by reading no\\n\\n            profile at all, but AFAIK this was never true.\\n\\n          + In all user interfaces, files with conflicts are always\\n\\n            listed first\\n\\n          + A new preference \\'sshversion\\' can be used to control which\\n\\n            version of ssh should be used to connect to the server. Legal\\n\\n            values are 1 and 2. (Default is empty, which will make unison\\n\\n            use whatever version of ssh is installed as the default \\'ssh\\'\\n\\n            command.)\\n\\n          + The situation when the permissions of a file was updated the\\n\\n            same on both side is now handled correctly (we used to report\\n\\n            a spurious conflict)\\n\\n     * Improvements for the Windows version:\\n\\n          + The fact that filenames are treated case-insensitively under\\n\\n            Windows should now be handled correctly. The exact behavior\\n\\n            is described in the cross-platform section of the manual.\\n\\n          + It should be possible to synchronize with Windows shares,\\n\\n            e.g., //host/drive/path.\\n\\n          + Workarounds to the bug in syncing root directories in\\n\\n            Windows. The most difficult thing to fix is an ocaml bug:\\n\\n            Unix.opendir fails on c: in some versions of Windows.\\n\\n     * Improvements to the GTK user interface (the Tk interface is no\\n\\n       longer being maintained):\\n\\n          + The UI now displays actions differently (in blue) when they\\n\\n            have been explicitly changed by the user from Unison\\'s\\n\\n            default recommendation.\\n\\n          + More colorful appearance.\\n\\n          + The initial profile selection window works better.\\n\\n          + If any transfers failed, a message to this effect is\\n\\n            displayed along with \\'Synchronization complete\\' at the end of\\n\\n            the transfer phase (in case they may have scrolled off the\\n\\n            top).\\n\\n          + Added a global progress meter, displaying the percentage of\\n\\n            total bytes that have been transferred so far.\\n\\n     * Improvements to the text user interface:\\n\\n          + The file details will be displayed automatically when a\\n\\n            conflict is been detected.\\n\\n          + when a warning is generated (e.g. for a temporary file left\\n\\n            over from a previous run of unison) Unison will no longer\\n\\n            wait for a response if it is running in -batch mode.\\n\\n          + The UI now displays a short list of possible inputs each time\\n\\n            it waits for user interaction.\\n\\n          + The UI now quits immediately (rather than looping back and\\n\\n            starting the interaction again) if the user presses \\'q\\' when\\n\\n            asked whether to propagate changes.\\n\\n          + Pressing \\'g\\' in the text user interface will proceed\\n\\n            immediately with propagating updates, without asking any more\\n\\n            questions.\\n\\n     * Documentation and installation changes:\\n\\n          + The manual now includes a FAQ, plus sections on common\\n\\n            problems and on tricks contributed by users.\\n\\n          + Both the download page and the download directory explicitly\\n\\n            say what are the current stable and beta-test version\\n\\n            numbers.\\n\\n          + The OCaml sources for the up-to-the-minute developers\\'\\n\\n            version (not guaranteed to be stable, or even to compile, at\\n\\n            any given time!) are now available from the download page.\\n\\n          + Added a subsection to the manual describing cross-platform\\n\\n            issues (case conflicts, illegal filenames)\\n\\n     * Many small bug fixes and random improvements.\\n\\n       \\n\\n   Changes since 2.3.1:\\n\\n     * Several bug fixes. The most important is a bug in the rsync module\\n\\n       that would occasionally cause change propagation to fail with a\\n\\n       \\'rename\\' error.\\n\\n       \\n\\n   Changes since 2.2:\\n\\n     * The multi-threaded transport system is now disabled by default.\\n\\n       (It is not stable enough yet.)\\n\\n     * Various bug fixes.\\n\\n     * A new experimental feature:\\n\\n       The final component of a -path argument may now be the wildcard\\n\\n       specifier *. When Unison sees such a path, it expands this path on\\n\\n       the client into into the corresponding list of paths by listing\\n\\n       the contents of that directory.\\n\\n       Note that if you use wildcard paths from the command line, you\\n\\n       will probably need to use quotes or a backslash to prevent the *\\n\\n       from being interpreted by your shell.\\n\\n       If both roots are local, the contents of the first one will be\\n\\n       used for expanding wildcard paths. (Nb: this is the first one\\n\\n       after the canonization step -- i.e., the one that is listed first\\n\\n       in the user interface -- not the one listed first on the command\\n\\n       line or in the preferences file.)\\n\\n       \\n\\n   Changes since 2.1:\\n\\n     * The transport subsystem now includes an implementation by Sylvain\\n\\n       Gommier and Norman Ramsey of Tridgell and Mackerras\\'s rsync\\n\\n       protocol. This protocol achieves much faster transfers when only a\\n\\n       small part of a large file has been changed by sending just diffs.\\n\\n       This feature is mainly helpful for transfers over slow links---on\\n\\n       fast local area networks it can actually degrade performance---so\\n\\n       we have left it off by default. Start unison with the -rsync\\n\\n       option (or put rsync=true in your preferences file) to turn it on.\\n\\n     * ``Progress bars\\'\\' are now diplayed during remote file transfers,\\n\\n       showing what percentage of each file has been transferred so far.\\n\\n     * The version numbering scheme has changed. New releases will now be\\n\\n       have numbers like 2.2.30, where the second component is\\n\\n       incremented on every significant public release and the third\\n\\n       component is the ``patch level.\\'\\'\\n\\n     * Miscellaneous improvements to the GTK-based user interface.\\n\\n     * The manual is now available in PDF format.\\n\\n     * We are experimenting with using a multi-threaded transport\\n\\n       subsystem to transfer several files at the same time, making much\\n\\n       more effective use of available network bandwidth. This feature is\\n\\n       not completely stable yet, so by default it is disabled in the\\n\\n       release version of Unison.\\n\\n       If you want to play with the multi-threaded version, you\\'ll need\\n\\n       to recompile Unison from sources (as described in the\\n\\n       documentation), setting the THREADS flag in Makefile.OCaml to\\n\\n       true. Make sure that your OCaml compiler has been installed with\\n\\n       the -with-pthreads configuration option. (You can verify this by\\n\\n       checking whether the file threads/threads.cma in the OCaml\\n\\n       standard library directory contains the string -lpthread near the\\n\\n       end.)\\n\\n       \\n\\n   Changes since 1.292:\\n\\n     * Reduced memory footprint (this is especially important during the\\n\\n       first run of unison, where it has to gather information about all\\n\\n       the files in both repositories).\\n\\n     * Fixed a bug that would cause the socket server under NT to fail\\n\\n       after the client exits.\\n\\n     * Added a SHIFT modifier to the Ignore menu shortcut keys in GTK\\n\\n       interface (to avoid hitting them accidentally).\\n\\n       \\n\\n   Changes since 1.231:\\n\\n     * Tunneling over ssh is now supported in the Windows version. See\\n\\n       the installation section of the manual for detailed instructions.\\n\\n     * The transport subsystem now includes an implementation of the\\n\\n       rsync protocol, built by Sylvain Gommier and Norman Ramsey. This\\n\\n       protocol achieves much faster transfers when only a small part of\\n\\n       a large file has been changed by sending just diffs. The rsync\\n\\n       feature is off by default in the current version. Use the -rsync\\n\\n       switch to turn it on. (Nb. We still have a lot of tuning to do:\\n\\n       you may not notice much speedup yet.)\\n\\n     * We\\'re experimenting with a multi-threaded transport subsystem,\\n\\n       written by Jerome Vouillon. The downloadable binaries are still\\n\\n       single-threaded: if you want to try the multi-threaded version,\\n\\n       you\\'ll need to recompile from sources. (Say make THREADS=true.)\\n\\n       Native thread support from the compiler is required. Use the\\n\\n       option -threads N to select the maximal number of concurrent\\n\\n       threads (default is 5). Multi-threaded and single-threaded\\n\\n       clients/servers can interoperate.\\n\\n     * A new GTK-based user interface is now available, thanks to Jacques\\n\\n       Garrigue. The Tk user interface still works, but we\\'ll be shifting\\n\\n       development effort to the GTK interface from now on.\\n\\n     * OCaml 3.00 is now required for compiling Unison from sources. The\\n\\n       modules uitk and myfileselect have been changed to use labltk\\n\\n       instead of camltk. To compile the Tk interface in Windows, you\\n\\n       must have ocaml-3.00 and tk8.3. When installing tk8.3, put it in\\n\\n       c:\\\\Tcl rather than the suggested c:\\\\Program Files\\\\Tcl, and be sure\\n\\n       to install the headers and libraries (which are not installed by\\n\\n       default).\\n\\n     * Added a new -addversionno switch, which causes unison to use\\n\\n       unison-<currentversionnumber> instead of just unison as the remote\\n\\n       server command. This allows multiple versions of unison to coexist\\n\\n       conveniently on the same server: whichever version is run on the\\n\\n       client, the same version will be selected on the server.\\n\\n       \\n\\n   Changes since 1.219:\\n\\n     * INCOMPATIBLE CHANGE: Archive format has changed. Make sure you\\n\\n       synchronize your replicas before upgrading, to avoid spurious\\n\\n       conflicts. The first sync after upgrading will be slow.\\n\\n     * This version fixes several annoying bugs, including:\\n\\n          + Some cases where propagation of file permissions was not\\n\\n            working.\\n\\n          + umask is now ignored when creating directories\\n\\n          + directories are create writable, so that a read-only\\n\\n            directory and its contents can be propagated.\\n\\n          + Handling of warnings generated by the server.\\n\\n          + Synchronizing a path whose parent is not a directory on both\\n\\n            sides is now flagged as erroneous.\\n\\n          + Fixed some bugs related to symnbolic links and nonexistant\\n\\n            roots.\\n\\n               o When a change (deletion or new contents) is propagated\\n\\n                 onto a \\'follow\\'ed symlink, the file pointed to by the\\n\\n                 link is now changed. (We used to change the link itself,\\n\\n                 which doesn\\'t fit our assertion that \\'follow\\' means the\\n\\n                 link is completely invisible)\\n\\n               o When one root did not exist, propagating the other root\\n\\n                 on top of it used to fail, becuase unison could not\\n\\n                 calculate the working directory into which to write\\n\\n                 changes. This should be fixed.\\n\\n     * A human-readable timestamp has been added to Unison\\'s archive\\n\\n       files.\\n\\n     * The semantics of Path and Name regular expressions now correspond\\n\\n       better.\\n\\n     * Some minor improvements to the text UI (e.g. a command for going\\n\\n       back to previous items)\\n\\n     * The organization of the export directory has changed --- should be\\n\\n       easier to find / download things now.\\n\\n       \\n\\n   Changes since 1.200:\\n\\n     * INCOMPATIBLE CHANGE: Archive format has changed. Make sure you\\n\\n       synchronize your replicas before upgrading, to avoid spurious\\n\\n       conflicts. The first sync after upgrading will be slow.\\n\\n     * This version has not been tested extensively on Windows.\\n\\n     * Major internal changes designed to make unison safer to run at the\\n\\n       same time as the replicas are being changed by the user.\\n\\n     * Internal performance improvements.\\n\\n       \\n\\n   Changes since 1.190:\\n\\n     * INCOMPATIBLE CHANGE: Archive format has changed. Make sure you\\n\\n       synchronize your replicas before upgrading, to avoid spurious\\n\\n       conflicts. The first sync after upgrading will be slow.\\n\\n     * A number of internal functions have been changed to reduce the\\n\\n       amount of memory allocation, especially during the first\\n\\n       synchronization. This should help power users with very big\\n\\n       replicas.\\n\\n     * Reimplementation of low-level remote procedure call stuff, in\\n\\n       preparation for adding rsync-like smart file transfer in a later\\n\\n       release.\\n\\n     * Miscellaneous bug fixes.\\n\\n       \\n\\n   Changes since 1.180:\\n\\n     * INCOMPATIBLE CHANGE: Archive format has changed. Make sure you\\n\\n       synchronize your replicas before upgrading, to avoid spurious\\n\\n       conflicts. The first sync after upgrading will be slow.\\n\\n     * Fixed some small bugs in the interpretation of ignore patterns.\\n\\n     * Fixed some problems that were preventing the Windows version from\\n\\n       working correctly when click-started.\\n\\n     * Fixes to treatment of file permissions under Windows, which were\\n\\n       causing spurious reports of different permissions when\\n\\n       synchronizing between windows and unix systems.\\n\\n     * Fixed one more non-tail-recursive list processing function, which\\n\\n       was causing stack overflows when synchronizing very large\\n\\n       replicas.\\n\\n       \\n\\n   Changes since 1.169:\\n\\n     * The text user interface now provides commands for ignoring files.\\n\\n     * We found and fixed some more non-tail-recursive list processing\\n\\n       functions. Some power users have reported success with very large\\n\\n       replicas.\\n\\n     * INCOMPATIBLE CHANGE: Files ending in .tmp are no longer ignored\\n\\n       automatically. If you want to ignore such files, put an\\n\\n       appropriate ignore pattern in your profile.\\n\\n     * INCOMPATIBLE CHANGE: The syntax of ignore and follow patterns has\\n\\n       changed. Instead of putting a line of the form\\n\\n\\n\\n                 ignore = <regexp>\\n\\n       in your profile (.unison/default.prf), you should put:\\n\\n\\n\\n                 ignore = Regexp <regexp>\\n\\n       Moreover, two other styles of pattern are also recognized:\\n\\n\\n\\n                 ignore = Name <name>\\n\\n       matches any path in which one component matches <name>, while\\n\\n\\n\\n                 ignore = Path <path>\\n\\n       matches exactly the path <path>.\\n\\n       Standard ``globbing\\'\\' conventions can be used in <name> and\\n\\n       <path>:\\n\\n          + a ? matches any single character except /\\n\\n          + a * matches any sequence of characters not including /\\n\\n          + [xyz] matches any character from the set {x, y, z }\\n\\n          + {a,bb,ccc} matches any one of a, bb, or ccc.\\n\\n       See the user manual for some examples.\\n\\n       \\n\\n   Changes since 1.146:\\n\\n     * Some users were reporting stack overflows when synchronizing huge\\n\\n       directories. We found and fixed some non-tail-recursive list\\n\\n       processing functions, which we hope will solve the problem. Please\\n\\n       give it a try and let us know.\\n\\n     * Major additions to the documentation.\\n\\n       \\n\\n   Changes since 1.142:\\n\\n     * Major internal tidying and many small bugfixes.\\n\\n     * Major additions to the user manual.\\n\\n     * Unison can now be started with no arguments -- it will prompt\\n\\n       automatically for the name of a profile file containing the roots\\n\\n       to be synchronized. This makes it possible to start the graphical\\n\\n       UI from a desktop icon.\\n\\n     * Fixed a small bug where the text UI on NT was raising a \\'no such\\n\\n       signal\\' exception.\\n\\n       \\n\\n   Changes since 1.139:\\n\\n     * The precompiled windows binary in the last release was compiled\\n\\n       with an old OCaml compiler, causing propagation of permissions not\\n\\n       to work (and perhaps leading to some other strange behaviors we\\'ve\\n\\n       heard reports about). This has been corrected. If you\\'re using\\n\\n       precompiled binaries on Windows, please upgrade.\\n\\n     * Added a -debug command line flag, which controls debugging of\\n\\n       various modules. Say -debug XXX to enable debug tracing for module\\n\\n       XXX, or -debug all to turn on absolutely everything.\\n\\n     * Fixed a small bug where the text UI on NT was raising a \\'no such\\n\\n       signal\\' exception.\\n\\n       \\n\\n   Changes since 1.111:\\n\\n     * INCOMPATIBLE CHANGE: The names and formats of the preference files\\n\\n       in the .unison directory have changed. In particular:\\n\\n          + the file ``prefs\\'\\' should be renamed to default.prf\\n\\n          + the contents of the file ``ignore\\'\\' should be merged into\\n\\n            default.prf. Each line of the form REGEXP in ignore should\\n\\n            become a line of the form ignore = REGEXP in default.prf.\\n\\n     * Unison now handles permission bits and symbolic links. See the\\n\\n       manual for details.\\n\\n     * You can now have different preference files in your .unison\\n\\n       directory. If you start unison like this\\n\\n\\n\\n             unison profilename\\n\\n       (i.e. with just one ``anonymous\\'\\' command-line argument), then the\\n\\n       file ~/.unison/profilename.prf will be loaded instead of\\n\\n       default.prf.\\n\\n     * Some improvements to terminal handling in the text user interface\\n\\n     * Added a switch -killServer that terminates the remote server\\n\\n       process when the unison client is shutting down, even when using\\n\\n       sockets for communication. (By default, a remote server created\\n\\n       using ssh/rsh is terminated automatically, while a socket server\\n\\n       is left running.)\\n\\n     * When started in \\'socket server\\' mode, unison prints \\'server\\n\\n       started\\' on stderr when it is ready to accept connections. (This\\n\\n       may be useful for scripts that want to tell when a socket-mode\\n\\n       server has finished initalization.)\\n\\n     * We now make a nightly mirror of our current internal development\\n\\n       tree, in case anyone wants an up-to-the-minute version to hack\\n\\n       around with.\\n\\n     * Added a file CONTRIB with some suggestions for how to help us make\\n\\n       Unison better.\\n\\n       \\n\\n\\n\\n\\n\\nChanges in Version 2.9.20\\n\\n\\n\\n   Changes since 2.9.1:\\n\\n     * Added a preference maxthreads that can be used to limit the number\\n\\n       of simultaneous file transfers.\\n\\n     * Added a backupdir preference, which controls where backup files\\n\\n       are stored.\\n\\n     * Basic support added for OSX. In particular, Unison now recognizes\\n\\n       when one of the hosts being synchronized is running OSX and\\n\\n       switches to a case-insensitive treatment of filenames (i.e., \\'foo\\'\\n\\n       and \\'FOO\\' are considered to be the same file). (OSX is not yet\\n\\n       fully working, however: in particular, files with resource forks\\n\\n       will not be synchronized correctly.)\\n\\n     * The same hash used to form the archive name is now also added to\\n\\n       the names of the temp files created during file transfer. The\\n\\n       reason for this is that, during update detection, we are going to\\n\\n       silently delete any old temp files that we find along the way, and\\n\\n       we want to prevent ourselves from deleting temp files belonging to\\n\\n       other instances of Unison that may be running in parallel, e.g.\\n\\n       synchronizing with a different host. Thanks to Ruslan Ermilov for\\n\\n       this suggestion.\\n\\n     * Several small user interface improvements\\n\\n     * Documentation\\n\\n          + FAQ and bug reporting instructions have been split out as\\n\\n            separate HTML pages, accessible directly from the unison web\\n\\n            page.\\n\\n          + Additions to FAQ, in particular suggestions about performance\\n\\n            tuning.\\n\\n     * Makefile\\n\\n          + Makefile.OCaml now sets UISTYLE=text or UISTYLE=gtk\\n\\n            automatically, depending on whether it finds lablgtk\\n\\n            installed\\n\\n          + Unison should now compile ``out of the box\\'\\' under OSX\\n\\n       \\n\\n   Changes since 2.8.1:\\n\\n     * Changing profile works again under Windows\\n\\n     * File movement optimization: Unison now tries to use local copy\\n\\n       instead of transfer for moved or copied files. It is controled by\\n\\n       a boolean option ``xferbycopying\\'\\'.\\n\\n     * Network statistics window (transfer rate, amount of data\\n\\n       transferred). [NB: not available in Windows-Cygwin version.]\\n\\n     * symlinks work under the cygwin version (which is dynamically\\n\\n       linked).\\n\\n     * Fixed potential deadlock when synchronizing between Windows and\\n\\n       Unix\\n\\n     * Small improvements:\\n\\n          + If neither the\\n\\n            tt USERPROFILE nor the\\n\\n            tt HOME environment variables are set, then Unison will put\\n\\n            its temporary commit log (called\\n\\n            tt DANGER.README) into the directory named by the\\n\\n            tt UNISON environment variable, if any; otherwise it will use\\n\\n            tt C:.\\n\\n          + alternative set of values for fastcheck: yes = true; no =\\n\\n            false; default = auto.\\n\\n          + -silent implies -contactquietly\\n\\n     * Source code:\\n\\n          + Code reorganization and tidying. (Started breaking up some of\\n\\n            the basic utility modules so that the non-unison-specific\\n\\n            stuff can be made available for other projects.)\\n\\n          + several Makefile and docs changes (for release);\\n\\n          + further comments in ``update.ml\\'\\';\\n\\n          + connection information is not stored in global variables\\n\\n            anymore.\\n\\n       \\n\\n   Changes since 2.7.78:\\n\\n     * Small bugfix to textual user interface under Unix (to avoid\\n\\n       leaving the terminal in a bad state where it would not echo inputs\\n\\n       after Unison exited).\\n\\n       \\n\\n   Changes since 2.7.39:\\n\\n     * Improvements to the main web page (stable and beta version docs\\n\\n       are now both accessible).\\n\\n     * User manual revised.\\n\\n     * Added some new preferences:\\n\\n          + ``sshcmd\\'\\' and ``rshcmd\\'\\' for specifying paths to ssh and rsh\\n\\n            programs.\\n\\n          + ``contactquietly\\'\\' for suppressing the ``contacting server\\'\\'\\n\\n            message during Unison startup (under the graphical UI).\\n\\n     * Bug fixes:\\n\\n          + Fixed small bug in UI that neglected to change the displayed\\n\\n            column headers if loading a new profile caused the roots to\\n\\n            change.\\n\\n          + Fixed a bug that would put the text UI into an infinite loop\\n\\n            if it encountered a conflict when run in batch mode.\\n\\n          + Added some code to try to fix the display of non-Ascii\\n\\n            characters in filenames on Windows systems in the GTK UI.\\n\\n            (This code is currently untested---if you\\'re one of the\\n\\n            people that had reported problems with display of non-ascii\\n\\n            filenames, we\\'d appreciate knowing if this actually fixes\\n\\n            things.)\\n\\n          + `-prefer/-force newer\\' works properly now. (The bug was\\n\\n            reported by Sebastian Urbaniak and Sean Fulton.)\\n\\n     * User interface and Unison behavior:\\n\\n          + Renamed `Proceed\\' to `Go\\' in the graphical UI.\\n\\n          + Added exit status for the textual user interface.\\n\\n          + Paths that are not synchronized because of conflicts or\\n\\n            errors during update detection are now noted in the log file.\\n\\n          + [END] messages in log now use a briefer format\\n\\n          + Changed the text UI startup sequence so that\\n\\n            tt ./unison -ui text will use the default profile instead of\\n\\n            failing.\\n\\n          + Made some improvements to the error messages.\\n\\n          + Added some debugging messages to remote.ml.\\n\\n       \\n\\n   Changes since 2.7.7:\\n\\n     * Incorporated, once again, a multi-threaded transport sub-system.\\n\\n       It transfers several files at the same time, thereby making much\\n\\n       more effective use of available network bandwidth. Unlike the\\n\\n       earlier attempt, this time we do not rely on the native thread\\n\\n       library of OCaml. Instead, we implement a light-weight,\\n\\n       non-preemptive multi-thread library in OCaml directly. This\\n\\n       version appears stable.\\n\\n       Some adjustments to unison are made to accommodate the\\n\\n       multi-threaded version. These include, in particular, changes to\\n\\n       the user interface and logging, for example:\\n\\n          + Two log entries for each transferring task, one for the\\n\\n            beginning, one for the end.\\n\\n          + Suppressed warning messages against removing temp files left\\n\\n            by a previous unison run, because warning does not work\\n\\n            nicely under multi-threading. The temp file names are made\\n\\n            less likely to coincide with the name of a file created by\\n\\n            the user. They take the form\\n\\n            .#<filename>.<serial>.unison.tmp.\\n\\n     * Added a new command to the GTK user interface: pressing \\'f\\' causes\\n\\n       Unison to start a new update detection phase, using as paths just\\n\\n       those paths that have been detected as changed and not yet marked\\n\\n       as successfully completed. Use this command to quickly restart\\n\\n       Unison on just the set of paths still needing attention after a\\n\\n       previous run.\\n\\n     * Made the ignorecase preference user-visible, and changed the\\n\\n       initialization code so that it can be manually set to true, even\\n\\n       if neither host is running Windows. (This may be useful, e.g.,\\n\\n       when using Unison running on a Unix system with a FAT volume\\n\\n       mounted.)\\n\\n     * Small improvements and bug fixes:\\n\\n          + Errors in preference files now generate fatal errors rather\\n\\n            than warnings at startup time. (I.e., you can\\'t go on from\\n\\n            them.) Also, we fixed a bug that was preventing these\\n\\n            warnings from appearing in the text UI, so some users who\\n\\n            have been running (unsuspectingly) with garbage in their\\n\\n            prefs files may now get error reports.\\n\\n          + Error reporting for preference files now provides file name\\n\\n            and line number.\\n\\n          + More intelligible message in the case of identical change to\\n\\n            the same files: ``Nothing to do: replicas have been changed\\n\\n            only in identical ways since last sync.\\'\\'\\n\\n          + Files with prefix \\'.#\\' excluded when scanning for preference\\n\\n            files.\\n\\n          + Rsync instructions are send directly instead of first\\n\\n            marshaled.\\n\\n          + Won\\'t try forever to get the fingerprint of a continuously\\n\\n            changing file: unison will give up after certain number of\\n\\n            retries.\\n\\n          + Other bug fixes, including the one reported by Peter Selinger\\n\\n            (force=older preference not working).\\n\\n     * Compilation:\\n\\n          + Upgraded to the new OCaml 3.04 compiler, with the LablGtk\\n\\n            1.2.3 library (patched version used for compiling under\\n\\n            Windows).\\n\\n          + Added the option to compile unison on the Windows platform\\n\\n            with Cygwin GNU C compiler. This option only supports\\n\\n            building dynamically linked unison executables.\\n\\n       \\n\\n   Changes since 2.7.4:\\n\\n     * Fixed a silly (but debilitating) bug in the client startup\\n\\n       sequence.\\n\\n       \\n\\n   Changes since 2.7.1:\\n\\n     * Added addprefsto preference, which (when set) controls which\\n\\n       preference file new preferences (e.g. new ignore patterns) are\\n\\n       added to.\\n\\n     * Bug fix: read the initial connection header one byte at a time, so\\n\\n       that we don\\'t block if the header is shorter than expected. (This\\n\\n       bug did not affect normal operation --- it just made it hard to\\n\\n       tell when you were trying to use Unison incorrectly with an old\\n\\n       version of the server, since it would hang instead of giving an\\n\\n       error message.)\\n\\n       \\n\\n   Changes since 2.6.59:\\n\\n     * Changed fastcheck from a boolean to a string preference. Its legal\\n\\n       values are yes (for a fast check), no (for a safe check), or\\n\\n       default (for a fast check---which also happens to be safe---when\\n\\n       running on Unix and a safe check when on Windows). The default is\\n\\n       default.\\n\\n     * Several preferences have been renamed for consistency. All\\n\\n       preference names are now spelled out in lowercase. For backward\\n\\n       compatibility, the old names still work, but they are not\\n\\n       mentioned in the manual any more.\\n\\n     * The temp files created by the \\'diff\\' and \\'merge\\' commands are now\\n\\n       named by prepending a new prefix to the file name, rather than\\n\\n       appending a suffix. This should avoid confusing diff/merge\\n\\n       programs that depend on the suffix to guess the type of the file\\n\\n       contents.\\n\\n     * We now set the keepalive option on the server socket, to make sure\\n\\n       that the server times out if the communication link is\\n\\n       unexpectedly broken.\\n\\n     * Bug fixes:\\n\\n          + When updating small files, Unison now closes the destination\\n\\n            file.\\n\\n          + File permissions are properly updated when the file is behind\\n\\n            a followed link.\\n\\n          + Several other small fixes.\\n\\n       \\n\\n   Changes since 2.6.38:\\n\\n     * Major Windows performance improvement!\\n\\n       We\\'ve added a preference fastcheck that makes Unison look only at\\n\\n       a file\\'s creation time and last-modified time to check whether it\\n\\n       has changed. This should result in a huge speedup when checking\\n\\n       for updates in large replicas.\\n\\n       When this switch is set, Unison will use file creation times as\\n\\n       \\'pseudo inode numbers\\' when scanning Windows replicas for updates,\\n\\n       instead of reading the full contents of every file. This may cause\\n\\n       Unison to miss propagating an update if the create time,\\n\\n       modification time, and length of the file are all unchanged by the\\n\\n       update (this is not easy to achieve, but it can be done). However,\\n\\n       Unison will never overwrite such an update with a change from the\\n\\n       other replica, since it always does a safe check for updates just\\n\\n       before propagating a change. Thus, it is reasonable to use this\\n\\n       switch most of the time and occasionally run Unison once with\\n\\n       fastcheck set to false, if you are worried that Unison may have\\n\\n       overlooked an update.\\n\\n       Warning: This change is has not yet been thoroughly field-tested.\\n\\n       If you set the fastcheck preference, pay careful attention to what\\n\\n       Unison is doing.\\n\\n     * New functionality: centralized backups and merging\\n\\n          + This version incorporates two pieces of major new\\n\\n            functionality, implemented by Sylvain Roy during a summer\\n\\n            internship at Penn: a centralized backup facility that keeps\\n\\n            a full backup of (selected files in) each replica, and a\\n\\n            merging feature that allows Unison to invoke an external\\n\\n            file-merging tool to resolve conflicting changes to\\n\\n            individual files.\\n\\n          + Centralized backups:\\n\\n               o Unison now maintains full backups of the\\n\\n                 last-synchronized versions of (some of) the files in\\n\\n                 each replica; these function both as backups in the\\n\\n                 usual sense and as the ``common version\\'\\' when invoking\\n\\n                 external merge programs.\\n\\n               o The backed up files are stored in a directory\\n\\n                 /.unison/backup on each host. (The name of this\\n\\n                 directory can be changed by setting the environment\\n\\n                 variable UNISONBACKUPDIR.)\\n\\n               o The predicate backup controls which files are actually\\n\\n                 backed up: giving the preference \\'backup = Path *\\'\\n\\n                 causes backing up of all files.\\n\\n               o Files are added to the backup directory whenever unison\\n\\n                 updates its archive. This means that\\n\\n                    # When unison reconstructs its archive from scratch\\n\\n                      (e.g., because of an upgrade, or because the\\n\\n                      archive files have been manually deleted), all\\n\\n                      files will be backed up.\\n\\n                    # Otherwise, each file will be backed up the first\\n\\n                      time unison propagates an update for it.\\n\\n               o The preference backupversions controls how many previous\\n\\n                 versions of each file are kept. The default is 2 (i.e.,\\n\\n                 the last synchronized version plus one backup).\\n\\n               o For backward compatibility, the backups preference is\\n\\n                 also still supported, but backup is now preferred.\\n\\n               o It is OK to manually delete files from the backup\\n\\n                 directory (or to throw away the directory itself).\\n\\n                 Before unison uses any of these files for anything\\n\\n                 important, it checks that its fingerprint matches the\\n\\n                 one that it expects.\\n\\n          + Merging:\\n\\n               o Both user interfaces offer a new \\'merge\\' command,\\n\\n                 invoked by pressing \\'m\\' (with a changed file selected).\\n\\n               o The actual merging is performed by an external program.\\n\\n                 The preferences merge and merge2 control how this\\n\\n                 program is invoked. If a backup exists for this file\\n\\n                 (see the backup preference), then the merge preference\\n\\n                 is used for this purpose; otherwise merge2 is used. In\\n\\n                 both cases, the value of the preference should be a\\n\\n                 string representing the command that should be passed to\\n\\n                 a shell to invoke the merge program. Within this string,\\n\\n                 the special substrings CURRENT1, CURRENT2, NEW, and OLD\\n\\n                 may appear at any point. Unison will substitute these as\\n\\n                 follows before invoking the command:\\n\\n                    # CURRENT1 is replaced by the name of the local copy\\n\\n                      of the file;\\n\\n                    # CURRENT2 is replaced by the name of a temporary\\n\\n                      file, into which the contents of the remote copy of\\n\\n                      the file have been transferred by Unison prior to\\n\\n                      performing the merge;\\n\\n                    # NEW is replaced by the name of a temporary file\\n\\n                      that Unison expects to be written by the merge\\n\\n                      program when it finishes, giving the desired new\\n\\n                      contents of the file; and\\n\\n                    # OLD is replaced by the name of the backed up copy\\n\\n                      of the original version of the file (i.e., its\\n\\n                      state at the end of the last successful run of\\n\\n                      Unison), if one exists (applies only to merge, not\\n\\n                      merge2).\\n\\n                 For example, on Unix systems setting the merge\\n\\n                 preference to\\n\\n\\n\\n   merge = diff3 -m CURRENT1 OLD CURRENT2 > NEW\\n\\n                 will tell Unison to use the external diff3 program for\\n\\n                 merging.\\n\\n                 A large number of external merging programs are\\n\\n                 available. For example, emacs users may find the\\n\\n                 following convenient:\\n\\n\\n\\n    merge2 = emacs -q --eval \\'(ediff-merge-files \"CURRENT1\" \"CURRENT2\"\\n\\n               nil \"NEW\")\\'\\n\\n    merge = emacs -q --eval \\'(ediff-merge-files-with-ancestor\\n\\n               \"CURRENT1\" \"CURRENT2\" \"OLD\" nil \"NEW\")\\'\\n\\n                 (These commands are displayed here on two lines to avoid\\n\\n                 running off the edge of the page. In your preference\\n\\n                 file, each should be written on a single line.)\\n\\n               o If the external program exits without leaving any file\\n\\n                 at the path NEW, Unison considers the merge to have\\n\\n                 failed. If the merge program writes a file called NEW\\n\\n                 but exits with a non-zero status code, then Unison\\n\\n                 considers the merge to have succeeded but to have\\n\\n                 generated conflicts. In this case, it attempts to invoke\\n\\n                 an external editor so that the user can resolve the\\n\\n                 conflicts. The value of the editor preference controls\\n\\n                 what editor is invoked by Unison. The default is emacs.\\n\\n               o Please send us suggestions for other useful values of\\n\\n                 the merge2 and merge preferences -- we\\'d like to give\\n\\n                 several examples in the manual.\\n\\n     * Smaller changes:\\n\\n          + When one preference file includes another, unison no longer\\n\\n            adds the suffix \\'.prf\\' to the included file by default. If a\\n\\n            file with precisely the given name exists in the .unison\\n\\n            directory, it will be used; otherwise Unison will add .prf,\\n\\n            as it did before. (This change means that included preference\\n\\n            files can be named blah.include instead of blah.prf, so that\\n\\n            unison will not offer them in its \\'choose a preference file\\'\\n\\n            dialog.)\\n\\n          + For Linux systems, we now offer both a statically linked and\\n\\n            a dynamically linked executable. The static one is larger,\\n\\n            but will probably run on more systems, since it doesn\\'t\\n\\n            depend on the same versions of dynamically linked library\\n\\n            modules being available.\\n\\n          + Fixed the force and prefer preferences, which were getting\\n\\n            the propagation direction exactly backwards.\\n\\n          + Fixed a bug in the startup code that would cause unison to\\n\\n            crash when the default profile (~/.unison/default.prf) does\\n\\n            not exist.\\n\\n          + Fixed a bug where, on the run when a profile is first\\n\\n            created, Unison would confusingly display the roots in\\n\\n            reverse order in the user interface.\\n\\n     * For developers:\\n\\n          + We\\'ve added a module dependency diagram to the source\\n\\n            distribution, in src/DEPENDENCIES.ps, to help new prospective\\n\\n            developers with navigating the code.\\n\\n       \\n\\n   Changes since 2.6.11:\\n\\n     * INCOMPATIBLE CHANGE: Archive format has changed.\\n\\n     * INCOMPATIBLE CHANGE: The startup sequence has been completely\\n\\n       rewritten and greatly simplified. The main user-visible change is\\n\\n       that the defaultpath preference has been removed. Its effect can\\n\\n       be approximated by using multiple profiles, with include\\n\\n       directives to incorporate common settings. All uses of defaultpath\\n\\n       in existing profiles should be changed to path.\\n\\n       Another change in startup behavior that will affect some users is\\n\\n       that it is no longer possible to specify roots both in the profile\\n\\n       and on the command line.\\n\\n       You can achieve a similar effect, though, by breaking your profile\\n\\n       into two:\\n\\n\\n\\n\\n\\n  default.prf =\\n\\n      root = blah\\n\\n      root = foo\\n\\n      include common\\n\\n\\n\\n  common.prf =\\n\\n      <everything else>\\n\\n       Now do\\n\\n\\n\\n  unison common root1 root2\\n\\n       when you want to specify roots explicitly.\\n\\n     * The -prefer and -force options have been extended to allow users\\n\\n       to specify that files with more recent modtimes should be\\n\\n       propagated, writing either -prefer newer or -force newer. (For\\n\\n       symmetry, Unison will also accept -prefer older or -force older.)\\n\\n       The -force older/newer options can only be used when -times is\\n\\n       also set.\\n\\n       The graphical user interface provides access to these facilities\\n\\n       on a one-off basis via the Actions menu.\\n\\n     * Names of roots can now be ``aliased\\'\\' to allow replicas to be\\n\\n       relocated without changing the name of the archive file where\\n\\n       Unison stores information between runs. (This feature is for\\n\\n       experts only. See the ``Archive Files\\'\\' section of the manual for\\n\\n       more information.)\\n\\n     * Graphical user-interface:\\n\\n          + A new command is provided in the Synchronization menu for\\n\\n            switching to a new profile without restarting Unison from\\n\\n            scratch.\\n\\n          + The GUI also supports one-key shortcuts for commonly used\\n\\n            profiles. If a profile contains a preference of the form \\'key\\n\\n            = n\\', where n is a single digit, then pressing this key will\\n\\n            cause Unison to immediately switch to this profile and begin\\n\\n            synchronization again from scratch. (Any actions that may\\n\\n            have been selected for a set of changes currently being\\n\\n            displayed will be discarded.)\\n\\n          + Each profile may include a preference \\'label = <string>\\'\\n\\n            giving a descriptive string that described the options\\n\\n            selected in this profile. The string is listed along with the\\n\\n            profile name in the profile selection dialog, and displayed\\n\\n            in the top-right corner of the main Unison window.\\n\\n     * Minor:\\n\\n          + Fixed a bug that would sometimes cause the \\'diff\\' display to\\n\\n            order the files backwards relative to the main user\\n\\n            interface. (Thanks to Pascal Brisset for this fix.)\\n\\n          + On Unix systems, the graphical version of Unison will check\\n\\n            the DISPLAY variable and, if it is not set, automatically\\n\\n            fall back to the textual user interface.\\n\\n          + Synchronization paths (path preferences) are now matched\\n\\n            against the ignore preferences. So if a path is both\\n\\n            specified in a path preference and ignored, it will be\\n\\n            skipped.\\n\\n          + Numerous other bugfixes and small improvements.\\n\\n       \\n\\n   Changes since 2.6.1:\\n\\n     * The synchronization of modification times has been disabled for\\n\\n       directories.\\n\\n     * Preference files may now include lines of the form include <name>,\\n\\n       which will cause name.prf to be read at that point.\\n\\n     * The synchronization of permission between Windows and Unix now\\n\\n       works properly.\\n\\n     * A binding CYGWIN=binmode in now added to the environment so that\\n\\n       the Cygwin port of OpenSSH works properly in a non-Cygwin context.\\n\\n     * The servercmd and addversionno preferences can now be used\\n\\n       together: -addversionno appends an appropriate -NNN to the server\\n\\n       command, which is found by using the value of the -servercmd\\n\\n       preference if there is one, or else just unison.\\n\\n     * Both \\'-pref=val\\' and \\'-pref val\\' are now allowed for boolean\\n\\n       values. (The former can be used to set a preference to false.)\\n\\n     * Lot of small bugs fixed.\\n\\n       \\n\\n   Changes since 2.5.31:\\n\\n     * The log preference is now set to true by default, since the log\\n\\n       file seems useful for most users.\\n\\n     * Several miscellaneous bugfixes (most involving symlinks).\\n\\n       \\n\\n   Changes since 2.5.25:\\n\\n     * INCOMPATIBLE CHANGE: Archive format has changed (again).\\n\\n     * Several significant bugs introduced in 2.5.25 have been fixed.\\n\\n       \\n\\n   Changes since 2.5.1:\\n\\n     * INCOMPATIBLE CHANGE: Archive format has changed. Make sure you\\n\\n       synchronize your replicas before upgrading, to avoid spurious\\n\\n       conflicts. The first sync after upgrading will be slow.\\n\\n     * New functionality:\\n\\n          + Unison now synchronizes file modtimes, user-ids, and\\n\\n            group-ids.\\n\\n            These new features are controlled by a set of new\\n\\n            preferences, all of which are currently false by default.\\n\\n               o When the times preference is set to true, file\\n\\n                 modification times are propaged. (Because the\\n\\n                 representations of time may not have the same\\n\\n                 granularity on both replicas, Unison may not always be\\n\\n                 able to make the modtimes precisely equal, but it will\\n\\n                 get them as close as the operating systems involved\\n\\n                 allow.)\\n\\n               o When the owner preference is set to true, file ownership\\n\\n                 information is synchronized.\\n\\n               o When the group preference is set to true, group\\n\\n                 information is synchronized.\\n\\n               o When the numericIds preference is set to true, owner and\\n\\n                 group information is synchronized numerically. By\\n\\n                 default, owner and group numbers are converted to names\\n\\n                 on each replica and these names are synchronized. (The\\n\\n                 special user id 0 and the special group 0 are never\\n\\n                 mapped via user/group names even if this preference is\\n\\n                 not set.)\\n\\n          + Added an integer-valued preference perms that can be used to\\n\\n            control the propagation of permission bits. The value of this\\n\\n            preference is a mask indicating which permission bits should\\n\\n            be synchronized. It is set by default to 0o1777: all bits but\\n\\n            the set-uid and set-gid bits are synchronised (synchronizing\\n\\n            theses latter bits can be a security hazard). If you want to\\n\\n            synchronize all bits, you can set the value of this\\n\\n            preference to -1.\\n\\n          + Added a log preference (default false), which makes Unison\\n\\n            keep a complete record of the changes it makes to the\\n\\n            replicas. By default, this record is written to a file called\\n\\n            unison.log in the user\\'s home directory (the value of the\\n\\n            HOME environment variable). If you want it someplace else,\\n\\n            set the logfile preference to the full pathname you want\\n\\n            Unison to use.\\n\\n          + Added an ignorenot preference that maintains a set of\\n\\n            patterns for paths that should definitely not be ignored,\\n\\n            whether or not they match an ignore pattern. (That is, a path\\n\\n            will now be ignored iff it matches an ignore pattern and does\\n\\n            not match any ignorenot patterns.)\\n\\n     * User-interface improvements:\\n\\n          + Roots are now displayed in the user interface in the same\\n\\n            order as they were given on the command line or in the\\n\\n            preferences file.\\n\\n          + When the batch preference is set, the graphical user\\n\\n            interface no longer waits for user confirmation when it\\n\\n            displays a warning message: it simply pops up an advisory\\n\\n            window with a Dismiss button at the bottom and keeps on\\n\\n            going.\\n\\n          + Added a new preference for controlling how many status\\n\\n            messages are printed during update detection: statusdepth\\n\\n            controls the maximum depth for paths on the local machine\\n\\n            (longer paths are not displayed, nor are non-directory\\n\\n            paths). The value should be an integer; default is 1.\\n\\n          + Removed the trace and silent preferences. They did not seem\\n\\n            very useful, and there were too many preferences for\\n\\n            controlling output in various ways.\\n\\n          + The text UI now displays just the default command (the one\\n\\n            that will be used if the user just types <return>) instead of\\n\\n            all available commands. Typing ? will print the full list of\\n\\n            possibilities.\\n\\n          + The function that finds the canonical hostname of the local\\n\\n            host (which is used, for example, in calculating the name of\\n\\n            the archive file used to remember which files have been\\n\\n            synchronized) normally uses the gethostname operating system\\n\\n            call. However, if the environment variable\\n\\n            UNISONLOCALHOSTNAME is set, its value will now be used\\n\\n            instead. This makes it easier to use Unison in situations\\n\\n            where a machine\\'s name changes frequently (e.g., because it\\n\\n            is a laptop and gets moved around a lot).\\n\\n          + File owner and group are now displayed in the ``detail\\n\\n            window\\'\\' at the bottom of the screen, when unison is\\n\\n            configured to synchronize them.\\n\\n     * For hackers:\\n\\n          + Updated to Jacques Garrigue\\'s new version of lablgtk, which\\n\\n            means we can throw away our local patched version.\\n\\n            If you\\'re compiling the GTK version of unison from sources,\\n\\n            you\\'ll need to update your copy of lablgtk to the developers\\n\\n            release, available from\\n\\n            http://wwwfun.kurims.kyoto-u.ac.jp/soft/olabl/lablgtk.html\\n\\n            (Warning: installing lablgtk under Windows is currently a bit\\n\\n            challenging.)\\n\\n          + The TODO.txt file (in the source distribution) has been\\n\\n            cleaned up and reorganized. The list of pending tasks should\\n\\n            be much easier to make sense of, for people that may want to\\n\\n            contribute their programming energies. There is also a\\n\\n            separate file BUGS.txt for open bugs.\\n\\n          + The Tk user interface has been removed (it was not being\\n\\n            maintained and no longer compiles).\\n\\n          + The debug preference now prints quite a bit of additional\\n\\n            information that should be useful for identifying sources of\\n\\n            problems.\\n\\n          + The version number of the remote server is now checked right\\n\\n            away during the connection setup handshake, rather than\\n\\n            later. (Somebody sent a bug report of a server crash that\\n\\n            turned out to come from using inconsistent versions: better\\n\\n            to check this earlier and in a way that can\\'t crash either\\n\\n            client or server.)\\n\\n          + Unison now runs correctly on 64-bit architectures (e.g. Alpha\\n\\n            linux). We will not be distributing binaries for these\\n\\n            architectures ourselves (at least for a while) but if someone\\n\\n            would like to make them available, we\\'ll be glad to provide a\\n\\n            link to them.\\n\\n     * Bug fixes:\\n\\n          + Pattern matching (e.g. for ignore) is now case-insensitive\\n\\n            when Unison is in case-insensitive mode (i.e., when one of\\n\\n            the replicas is on a windows machine).\\n\\n          + Some people had trouble with mysterious failures during\\n\\n            propagation of updates, where files would be falsely reported\\n\\n            as having changed during synchronization. This should be\\n\\n            fixed.\\n\\n          + Numerous smaller fixes.\\n\\n       \\n\\n   Changes since 2.4.1:\\n\\n     * Added a number of \\'sorting modes\\' for the user interface. By\\n\\n       default, conflicting changes are displayed at the top, and the\\n\\n       rest of the entries are sorted in alphabetical order. This\\n\\n       behavior can be changed in the following ways:\\n\\n          + Setting the sortnewfirst preference to true causes newly\\n\\n            created files to be displayed before changed files.\\n\\n          + Setting sortbysize causes files to be displayed in increasing\\n\\n            order of size.\\n\\n          + Giving the preference sortfirst=<pattern> (where <pattern> is\\n\\n            a path descriptor in the same format as \\'ignore\\' and \\'follow\\'\\n\\n            patterns, causes paths matching this pattern to be displayed\\n\\n            first.\\n\\n          + Similarly, giving the preference sortlast=<pattern> causes\\n\\n            paths matching this pattern to be displayed last.\\n\\n       The sorting preferences are described in more detail in the user\\n\\n       manual. The sortnewfirst and sortbysize flags can also be accessed\\n\\n       from the \\'Sort\\' menu in the grpahical user interface.\\n\\n     * Added two new preferences that can be used to change unison\\'s\\n\\n       fundamental behavior to make it more like a mirroring tool instead\\n\\n       of a synchronizer.\\n\\n          + Giving the preference prefer with argument <root> (by adding\\n\\n            -prefer <root> to the command line or prefer=<root>) to your\\n\\n            profile) means that, if there is a conflict, the contents of\\n\\n            <root> should be propagated to the other replica (with no\\n\\n            questions asked). Non-conflicting changes are treated as\\n\\n            usual.\\n\\n          + Giving the preference force with argument <root> will make\\n\\n            unison resolve all differences in favor of the given root,\\n\\n            even if it was the other replica that was changed.\\n\\n       These options should be used with care! (More information is\\n\\n       available in the manual.)\\n\\n     * Small changes:\\n\\n          + Changed default answer to \\'Yes\\' in all two-button dialogs in\\n\\n            the graphical interface (this seems more intuitive).\\n\\n          + The rsync preference has been removed (it was used to\\n\\n            activate rsync compression for file transfers, but rsync\\n\\n            compression is now enabled by default).\\n\\n          + In the text user interface, the arrows indicating which\\n\\n            direction changes are being propagated are printed\\n\\n            differently when the user has overridded Unison\\'s default\\n\\n            recommendation (====> instead of ---->). This matches the\\n\\n            behavior of the graphical interface, which displays such\\n\\n            arrows in a different color.\\n\\n          + Carriage returns (Control-M\\'s) are ignored at the ends of\\n\\n            lines in profiles, for Windows compatibility.\\n\\n          + All preferences are now fully documented in the user manual.\\n\\n       \\n\\n   Changes since 2.3.12:\\n\\n     * INCOMPATIBLE CHANGE: Archive format has changed. Make sure you\\n\\n       synchronize your replicas before upgrading, to avoid spurious\\n\\n       conflicts. The first sync after upgrading will be slow.\\n\\n     * New/improved functionality:\\n\\n          + A new preference -sortbysize controls the order in which\\n\\n            changes are displayed to the user: when it is set to true,\\n\\n            the smallest changed files are displayed first. (The default\\n\\n            setting is false.)\\n\\n          + A new preference -sortnewfirst causes newly created files to\\n\\n            be listed before other updates in the user interface.\\n\\n          + We now allow the ssh protocol to specify a port.\\n\\n          + Incompatible change: The unison: protocol is deprecated, and\\n\\n            we added file: and socket:. You may have to modify your\\n\\n            profiles in the .unison directory. If a replica is specified\\n\\n            without an explicit protocol, we now assume it refers to a\\n\\n            file. (Previously \"//saul/foo\" meant to use SSH to connect to\\n\\n            saul, then access the foo directory. Now it means to access\\n\\n            saul via a remote file mechanism such as samba; the old\\n\\n            effect is now achieved by writing ssh://saul/foo.)\\n\\n          + Changed the startup sequence for the case where roots are\\n\\n            given but no profile is given on the command line. The new\\n\\n            behavior is to use the default profile (creating it if it\\n\\n            does not exist), and temporarily override its roots. The\\n\\n            manual claimed that this case would work by reading no\\n\\n            profile at all, but AFAIK this was never true.\\n\\n          + In all user interfaces, files with conflicts are always\\n\\n            listed first\\n\\n          + A new preference \\'sshversion\\' can be used to control which\\n\\n            version of ssh should be used to connect to the server. Legal\\n\\n            values are 1 and 2. (Default is empty, which will make unison\\n\\n            use whatever version of ssh is installed as the default \\'ssh\\'\\n\\n            command.)\\n\\n          + The situation when the permissions of a file was updated the\\n\\n            same on both side is now handled correctly (we used to report\\n\\n            a spurious conflict)\\n\\n     * Improvements for the Windows version:\\n\\n          + The fact that filenames are treated case-insensitively under\\n\\n            Windows should now be handled correctly. The exact behavior\\n\\n            is described in the cross-platform section of the manual.\\n\\n          + It should be possible to synchronize with Windows shares,\\n\\n            e.g., //host/drive/path.\\n\\n          + Workarounds to the bug in syncing root directories in\\n\\n            Windows. The most difficult thing to fix is an ocaml bug:\\n\\n            Unix.opendir fails on c: in some versions of Windows.\\n\\n     * Improvements to the GTK user interface (the Tk interface is no\\n\\n       longer being maintained):\\n\\n          + The UI now displays actions differently (in blue) when they\\n\\n            have been explicitly changed by the user from Unison\\'s\\n\\n            default recommendation.\\n\\n          + More colorful appearance.\\n\\n          + The initial profile selection window works better.\\n\\n          + If any transfers failed, a message to this effect is\\n\\n            displayed along with \\'Synchronization complete\\' at the end of\\n\\n            the transfer phase (in case they may have scrolled off the\\n\\n            top).\\n\\n          + Added a global progress meter, displaying the percentage of\\n\\n            total bytes that have been transferred so far.\\n\\n     * Improvements to the text user interface:\\n\\n          + The file details will be displayed automatically when a\\n\\n            conflict is been detected.\\n\\n          + when a warning is generated (e.g. for a temporary file left\\n\\n            over from a previous run of unison) Unison will no longer\\n\\n            wait for a response if it is running in -batch mode.\\n\\n          + The UI now displays a short list of possible inputs each time\\n\\n            it waits for user interaction.\\n\\n          + The UI now quits immediately (rather than looping back and\\n\\n            starting the interaction again) if the user presses \\'q\\' when\\n\\n            asked whether to propagate changes.\\n\\n          + Pressing \\'g\\' in the text user interface will proceed\\n\\n            immediately with propagating updates, without asking any more\\n\\n            questions.\\n\\n     * Documentation and installation changes:\\n\\n          + The manual now includes a FAQ, plus sections on common\\n\\n            problems and on tricks contributed by users.\\n\\n          + Both the download page and the download directory explicitly\\n\\n            say what are the current stable and beta-test version\\n\\n            numbers.\\n\\n          + The OCaml sources for the up-to-the-minute developers\\'\\n\\n            version (not guaranteed to be stable, or even to compile, at\\n\\n            any given time!) are now available from the download page.\\n\\n          + Added a subsection to the manual describing cross-platform\\n\\n            issues (case conflicts, illegal filenames)\\n\\n     * Many small bug fixes and random improvements.\\n\\n       \\n\\n   Changes since 2.3.1:\\n\\n     * Several bug fixes. The most important is a bug in the rsync module\\n\\n       that would occasionally cause change propagation to fail with a\\n\\n       \\'rename\\' error.\\n\\n       \\n\\n   Changes since 2.2:\\n\\n     * The multi-threaded transport system is now disabled by default.\\n\\n       (It is not stable enough yet.)\\n\\n     * Various bug fixes.\\n\\n     * A new experimental feature:\\n\\n       The final component of a -path argument may now be the wildcard\\n\\n       specifier *. When Unison sees such a path, it expands this path on\\n\\n       the client into into the corresponding list of paths by listing\\n\\n       the contents of that directory.\\n\\n       Note that if you use wildcard paths from the command line, you\\n\\n       will probably need to use quotes or a backslash to prevent the *\\n\\n       from being interpreted by your shell.\\n\\n       If both roots are local, the contents of the first one will be\\n\\n       used for expanding wildcard paths. (Nb: this is the first one\\n\\n       after the canonization step -- i.e., the one that is listed first\\n\\n       in the user interface -- not the one listed first on the command\\n\\n       line or in the preferences file.)\\n\\n       \\n\\n   Changes since 2.1:\\n\\n     * The transport subsystem now includes an implementation by Sylvain\\n\\n       Gommier and Norman Ramsey of Tridgell and Mackerras\\'s rsync\\n\\n       protocol. This protocol achieves much faster transfers when only a\\n\\n       small part of a large file has been changed by sending just diffs.\\n\\n       This feature is mainly helpful for transfers over slow links---on\\n\\n       fast local area networks it can actually degrade performance---so\\n\\n       we have left it off by default. Start unison with the -rsync\\n\\n       option (or put rsync=true in your preferences file) to turn it on.\\n\\n     * ``Progress bars\\'\\' are now diplayed during remote file transfers,\\n\\n       showing what percentage of each file has been transferred so far.\\n\\n     * The version numbering scheme has changed. New releases will now be\\n\\n       have numbers like 2.2.30, where the second component is\\n\\n       incremented on every significant public release and the third\\n\\n       component is the ``patch level.\\'\\'\\n\\n     * Miscellaneous improvements to the GTK-based user interface.\\n\\n     * The manual is now available in PDF format.\\n\\n     * We are experimenting with using a multi-threaded transport\\n\\n       subsystem to transfer several files at the same time, making much\\n\\n       more effective use of available network bandwidth. This feature is\\n\\n       not completely stable yet, so by default it is disabled in the\\n\\n       release version of Unison.\\n\\n       If you want to play with the multi-threaded version, you\\'ll need\\n\\n       to recompile Unison from sources (as described in the\\n\\n       documentation), setting the THREADS flag in Makefile.OCaml to\\n\\n       true. Make sure that your OCaml compiler has been installed with\\n\\n       the -with-pthreads configuration option. (You can verify this by\\n\\n       checking whether the file threads/threads.cma in the OCaml\\n\\n       standard library directory contains the string -lpthread near the\\n\\n       end.)\\n\\n       \\n\\n   Changes since 1.292:\\n\\n     * Reduced memory footprint (this is especially important during the\\n\\n       first run of unison, where it has to gather information about all\\n\\n       the files in both repositories).\\n\\n     * Fixed a bug that would cause the socket server under NT to fail\\n\\n       after the client exits.\\n\\n     * Added a SHIFT modifier to the Ignore menu shortcut keys in GTK\\n\\n       interface (to avoid hitting them accidentally).\\n\\n       \\n\\n   Changes since 1.231:\\n\\n     * Tunneling over ssh is now supported in the Windows version. See\\n\\n       the installation section of the manual for detailed instructions.\\n\\n     * The transport subsystem now includes an implementation of the\\n\\n       rsync protocol, built by Sylvain Gommier and Norman Ramsey. This\\n\\n       protocol achieves much faster transfers when only a small part of\\n\\n       a large file has been changed by sending just diffs. The rsync\\n\\n       feature is off by default in the current version. Use the -rsync\\n\\n       switch to turn it on. (Nb. We still have a lot of tuning to do:\\n\\n       you may not notice much speedup yet.)\\n\\n     * We\\'re experimenting with a multi-threaded transport subsystem,\\n\\n       written by Jerome Vouillon. The downloadable binaries are still\\n\\n       single-threaded: if you want to try the multi-threaded version,\\n\\n       you\\'ll need to recompile from sources. (Say make THREADS=true.)\\n\\n       Native thread support from the compiler is required. Use the\\n\\n       option -threads N to select the maximal number of concurrent\\n\\n       threads (default is 5). Multi-threaded and single-threaded\\n\\n       clients/servers can interoperate.\\n\\n     * A new GTK-based user interface is now available, thanks to Jacques\\n\\n       Garrigue. The Tk user interface still works, but we\\'ll be shifting\\n\\n       development effort to the GTK interface from now on.\\n\\n     * OCaml 3.00 is now required for compiling Unison from sources. The\\n\\n       modules uitk and myfileselect have been changed to use labltk\\n\\n       instead of camltk. To compile the Tk interface in Windows, you\\n\\n       must have ocaml-3.00 and tk8.3. When installing tk8.3, put it in\\n\\n       c:\\\\Tcl rather than the suggested c:\\\\Program Files\\\\Tcl, and be sure\\n\\n       to install the headers and libraries (which are not installed by\\n\\n       default).\\n\\n     * Added a new -addversionno switch, which causes unison to use\\n\\n       unison-<currentversionnumber> instead of just unison as the remote\\n\\n       server command. This allows multiple versions of unison to coexist\\n\\n       conveniently on the same server: whichever version is run on the\\n\\n       client, the same version will be selected on the server.\\n\\n       \\n\\n   Changes since 1.219:\\n\\n     * INCOMPATIBLE CHANGE: Archive format has changed. Make sure you\\n\\n       synchronize your replicas before upgrading, to avoid spurious\\n\\n       conflicts. The first sync after upgrading will be slow.\\n\\n     * This version fixes several annoying bugs, including:\\n\\n          + Some cases where propagation of file permissions was not\\n\\n            working.\\n\\n          + umask is now ignored when creating directories\\n\\n          + directories are create writable, so that a read-only\\n\\n            directory and its contents can be propagated.\\n\\n          + Handling of warnings generated by the server.\\n\\n          + Synchronizing a path whose parent is not a directory on both\\n\\n            sides is now flagged as erroneous.\\n\\n          + Fixed some bugs related to symnbolic links and nonexistant\\n\\n            roots.\\n\\n               o When a change (deletion or new contents) is propagated\\n\\n                 onto a \\'follow\\'ed symlink, the file pointed to by the\\n\\n                 link is now changed. (We used to change the link itself,\\n\\n                 which doesn\\'t fit our assertion that \\'follow\\' means the\\n\\n                 link is completely invisible)\\n\\n               o When one root did not exist, propagating the other root\\n\\n                 on top of it used to fail, becuase unison could not\\n\\n                 calculate the working directory into which to write\\n\\n                 changes. This should be fixed.\\n\\n     * A human-readable timestamp has been added to Unison\\'s archive\\n\\n       files.\\n\\n     * The semantics of Path and Name regular expressions now correspond\\n\\n       better.\\n\\n     * Some minor improvements to the text UI (e.g. a command for going\\n\\n       back to previous items)\\n\\n     * The organization of the export directory has changed --- should be\\n\\n       easier to find / download things now.\\n\\n       \\n\\n   Changes since 1.200:\\n\\n     * INCOMPATIBLE CHANGE: Archive format has changed. Make sure you\\n\\n       synchronize your replicas before upgrading, to avoid spurious\\n\\n       conflicts. The first sync after upgrading will be slow.\\n\\n     * This version has not been tested extensively on Windows.\\n\\n     * Major internal changes designed to make unison safer to run at the\\n\\n       same time as the replicas are being changed by the user.\\n\\n     * Internal performance improvements.\\n\\n       \\n\\n   Changes since 1.190:\\n\\n     * INCOMPATIBLE CHANGE: Archive format has changed. Make sure you\\n\\n       synchronize your replicas before upgrading, to avoid spurious\\n\\n       conflicts. The first sync after upgrading will be slow.\\n\\n     * A number of internal functions have been changed to reduce the\\n\\n       amount of memory allocation, especially during the first\\n\\n       synchronization. This should help power users with very big\\n\\n       replicas.\\n\\n     * Reimplementation of low-level remote procedure call stuff, in\\n\\n       preparation for adding rsync-like smart file transfer in a later\\n\\n       release.\\n\\n     * Miscellaneous bug fixes.\\n\\n       \\n\\n   Changes since 1.180:\\n\\n     * INCOMPATIBLE CHANGE: Archive format has changed. Make sure you\\n\\n       synchronize your replicas before upgrading, to avoid spurious\\n\\n       conflicts. The first sync after upgrading will be slow.\\n\\n     * Fixed some small bugs in the interpretation of ignore patterns.\\n\\n     * Fixed some problems that were preventing the Windows version from\\n\\n       working correctly when click-started.\\n\\n     * Fixes to treatment of file permissions under Windows, which were\\n\\n       causing spurious reports of different permissions when\\n\\n       synchronizing between windows and unix systems.\\n\\n     * Fixed one more non-tail-recursive list processing function, which\\n\\n       was causing stack overflows when synchronizing very large\\n\\n       replicas.\\n\\n       \\n\\n   Changes since 1.169:\\n\\n     * The text user interface now provides commands for ignoring files.\\n\\n     * We found and fixed some more non-tail-recursive list processing\\n\\n       functions. Some power users have reported success with very large\\n\\n       replicas.\\n\\n     * INCOMPATIBLE CHANGE: Files ending in .tmp are no longer ignored\\n\\n       automatically. If you want to ignore such files, put an\\n\\n       appropriate ignore pattern in your profile.\\n\\n     * INCOMPATIBLE CHANGE: The syntax of ignore and follow patterns has\\n\\n       changed. Instead of putting a line of the form\\n\\n\\n\\n                 ignore = <regexp>\\n\\n       in your profile (.unison/default.prf), you should put:\\n\\n\\n\\n                 ignore = Regexp <regexp>\\n\\n       Moreover, two other styles of pattern are also recognized:\\n\\n\\n\\n                 ignore = Name <name>\\n\\n       matches any path in which one component matches <name>, while\\n\\n\\n\\n                 ignore = Path <path>\\n\\n       matches exactly the path <path>.\\n\\n       Standard ``globbing\\'\\' conventions can be used in <name> and\\n\\n       <path>:\\n\\n          + a ? matches any single character except /\\n\\n          + a * matches any sequence of characters not including /\\n\\n          + [xyz] matches any character from the set {x, y, z }\\n\\n          + {a,bb,ccc} matches any one of a, bb, or ccc.\\n\\n       See the user manual for some examples.\\n\\n       \\n\\n   Changes since 1.146:\\n\\n     * Some users were reporting stack overflows when synchronizing huge\\n\\n       directories. We found and fixed some non-tail-recursive list\\n\\n       processing functions, which we hope will solve the problem. Please\\n\\n       give it a try and let us know.\\n\\n     * Major additions to the documentation.\\n\\n       \\n\\n   Changes since 1.142:\\n\\n     * Major internal tidying and many small bugfixes.\\n\\n     * Major additions to the user manual.\\n\\n     * Unison can now be started with no arguments -- it will prompt\\n\\n       automatically for the name of a profile file containing the roots\\n\\n       to be synchronized. This makes it possible to start the graphical\\n\\n       UI from a desktop icon.\\n\\n     * Fixed a small bug where the text UI on NT was raising a \\'no such\\n\\n       signal\\' exception.\\n\\n       \\n\\n   Changes since 1.139:\\n\\n     * The precompiled windows binary in the last release was compiled\\n\\n       with an old OCaml compiler, causing propagation of permissions not\\n\\n       to work (and perhaps leading to some other strange behaviors we\\'ve\\n\\n       heard reports about). This has been corrected. If you\\'re using\\n\\n       precompiled binaries on Windows, please upgrade.\\n\\n     * Added a -debug command line flag, which controls debugging of\\n\\n       various modules. Say -debug XXX to enable debug tracing for module\\n\\n       XXX, or -debug all to turn on absolutely everything.\\n\\n     * Fixed a small bug where the text UI on NT was raising a \\'no such\\n\\n       signal\\' exception.\\n\\n       \\n\\n   Changes since 1.111:\\n\\n     * INCOMPATIBLE CHANGE: The names and formats of the preference files\\n\\n       in the .unison directory have changed. In particular:\\n\\n          + the file ``prefs\\'\\' should be renamed to default.prf\\n\\n          + the contents of the file ``ignore\\'\\' should be merged into\\n\\n            default.prf. Each line of the form REGEXP in ignore should\\n\\n            become a line of the form ignore = REGEXP in default.prf.\\n\\n     * Unison now handles permission bits and symbolic links. See the\\n\\n       manual for details.\\n\\n     * You can now have different preference files in your .unison\\n\\n       directory. If you start unison like this\\n\\n\\n\\n             unison profilename\\n\\n       (i.e. with just one ``anonymous\\'\\' command-line argument), then the\\n\\n       file ~/.unison/profilename.prf will be loaded instead of\\n\\n       default.prf.\\n\\n     * Some improvements to terminal handling in the text user interface\\n\\n     * Added a switch -killServer that terminates the remote server\\n\\n       process when the unison client is shutting down, even when using\\n\\n       sockets for communication. (By default, a remote server created\\n\\n       using ssh/rsh is terminated automatically, while a socket server\\n\\n       is left running.)\\n\\n     * When started in \\'socket server\\' mode, unison prints \\'server\\n\\n       started\\' on stderr when it is ready to accept connections. (This\\n\\n       may be useful for scripts that want to tell when a socket-mode\\n\\n       server has finished initalization.)\\n\\n     * We now make a nightly mirror of our current internal development\\n\\n       tree, in case anyone wants an up-to-the-minute version to hack\\n\\n       around with.\\n\\n     * Added a file CONTRIB with some suggestions for how to help us make\\n\\n       Unison better.\\n\\n       \\n\\n\\n\\n\\n\\nTo unsubscribe from this group, send an email to:\\n\\nunison-announce-unsubscribe@egroups.com\\n\\n\\n\\n \\n\\n\\n\\nYour use of Yahoo! Groups is subject to http://docs.yahoo.com/info/terms/ \\n\\n\\n\\n\\n\\n\\n'"
      ]
     },
     "execution_count": 57,
     "metadata": {},
     "output_type": "execute_result"
    }
   ],
   "source": [
    "data.at[5775, 'MESSAGE']"
   ]
  },
  {
   "cell_type": "markdown",
   "id": "f72cad80",
   "metadata": {},
   "source": [
    "# Sparse Matrix"
   ]
  },
  {
   "cell_type": "code",
   "execution_count": 58,
   "id": "d0efce70",
   "metadata": {},
   "outputs": [
    {
     "data": {
      "text/plain": [
       "Index(['http', 'use', 'list', 'one', 'get', 'mail', 'would', 'like', 'messag',\n",
       "       'work',\n",
       "       ...\n",
       "       'eirikur', 'q', 'garym', 'bullet', 'canarsi', 'tonight', 'codec',\n",
       "       'tini', 'centr', 'council'],\n",
       "      dtype='object', name='Vocab_word', length=2500)"
      ]
     },
     "execution_count": 58,
     "metadata": {},
     "output_type": "execute_result"
    }
   ],
   "source": [
    "word_index = pd.Index(vocab.Vocab_word)\n",
    "type(word_index[3])\n",
    "word_index"
   ]
  },
  {
   "cell_type": "code",
   "execution_count": 59,
   "id": "9995004c",
   "metadata": {},
   "outputs": [
    {
     "data": {
      "text/plain": [
       "list"
      ]
     },
     "execution_count": 59,
     "metadata": {},
     "output_type": "execute_result"
    }
   ],
   "source": [
    "type(nest_msg.tolist())"
   ]
  },
  {
   "cell_type": "code",
   "execution_count": 60,
   "id": "c45d907a",
   "metadata": {},
   "outputs": [
    {
     "data": {
      "text/html": [
       "<div>\n",
       "<style scoped>\n",
       "    .dataframe tbody tr th:only-of-type {\n",
       "        vertical-align: middle;\n",
       "    }\n",
       "\n",
       "    .dataframe tbody tr th {\n",
       "        vertical-align: top;\n",
       "    }\n",
       "\n",
       "    .dataframe thead th {\n",
       "        text-align: right;\n",
       "    }\n",
       "</style>\n",
       "<table border=\"1\" class=\"dataframe\">\n",
       "  <thead>\n",
       "    <tr style=\"text-align: right;\">\n",
       "      <th></th>\n",
       "      <th>0</th>\n",
       "      <th>1</th>\n",
       "      <th>2</th>\n",
       "      <th>3</th>\n",
       "      <th>4</th>\n",
       "      <th>5</th>\n",
       "      <th>6</th>\n",
       "      <th>7</th>\n",
       "      <th>8</th>\n",
       "      <th>9</th>\n",
       "      <th>...</th>\n",
       "      <th>7661</th>\n",
       "      <th>7662</th>\n",
       "      <th>7663</th>\n",
       "      <th>7664</th>\n",
       "      <th>7665</th>\n",
       "      <th>7666</th>\n",
       "      <th>7667</th>\n",
       "      <th>7668</th>\n",
       "      <th>7669</th>\n",
       "      <th>7670</th>\n",
       "    </tr>\n",
       "  </thead>\n",
       "  <tbody>\n",
       "    <tr>\n",
       "      <th>0</th>\n",
       "      <td>save</td>\n",
       "      <td>life</td>\n",
       "      <td>insur</td>\n",
       "      <td>spend</td>\n",
       "      <td>life</td>\n",
       "      <td>quot</td>\n",
       "      <td>save</td>\n",
       "      <td>g</td>\n",
       "      <td>famili</td>\n",
       "      <td>financi</td>\n",
       "      <td>...</td>\n",
       "      <td>None</td>\n",
       "      <td>None</td>\n",
       "      <td>None</td>\n",
       "      <td>None</td>\n",
       "      <td>None</td>\n",
       "      <td>None</td>\n",
       "      <td>None</td>\n",
       "      <td>None</td>\n",
       "      <td>None</td>\n",
       "      <td>None</td>\n",
       "    </tr>\n",
       "    <tr>\n",
       "      <th>1</th>\n",
       "      <td>fight</td>\n",
       "      <td>risk</td>\n",
       "      <td>cancer</td>\n",
       "      <td>http</td>\n",
       "      <td>slim</td>\n",
       "      <td>guarante</td>\n",
       "      <td>lose</td>\n",
       "      <td>lbs</td>\n",
       "      <td>day</td>\n",
       "      <td>http</td>\n",
       "      <td>...</td>\n",
       "      <td>None</td>\n",
       "      <td>None</td>\n",
       "      <td>None</td>\n",
       "      <td>None</td>\n",
       "      <td>None</td>\n",
       "      <td>None</td>\n",
       "      <td>None</td>\n",
       "      <td>None</td>\n",
       "      <td>None</td>\n",
       "      <td>None</td>\n",
       "    </tr>\n",
       "    <tr>\n",
       "      <th>2</th>\n",
       "      <td>fight</td>\n",
       "      <td>risk</td>\n",
       "      <td>cancer</td>\n",
       "      <td>http</td>\n",
       "      <td>slim</td>\n",
       "      <td>guarante</td>\n",
       "      <td>lose</td>\n",
       "      <td>lbs</td>\n",
       "      <td>day</td>\n",
       "      <td>http</td>\n",
       "      <td>...</td>\n",
       "      <td>None</td>\n",
       "      <td>None</td>\n",
       "      <td>None</td>\n",
       "      <td>None</td>\n",
       "      <td>None</td>\n",
       "      <td>None</td>\n",
       "      <td>None</td>\n",
       "      <td>None</td>\n",
       "      <td>None</td>\n",
       "      <td>None</td>\n",
       "    </tr>\n",
       "    <tr>\n",
       "      <th>3</th>\n",
       "      <td>adult</td>\n",
       "      <td>club</td>\n",
       "      <td>offer</td>\n",
       "      <td>free</td>\n",
       "      <td>membership</td>\n",
       "      <td>instant</td>\n",
       "      <td>access</td>\n",
       "      <td>site</td>\n",
       "      <td>user</td>\n",
       "      <td>name</td>\n",
       "      <td>...</td>\n",
       "      <td>None</td>\n",
       "      <td>None</td>\n",
       "      <td>None</td>\n",
       "      <td>None</td>\n",
       "      <td>None</td>\n",
       "      <td>None</td>\n",
       "      <td>None</td>\n",
       "      <td>None</td>\n",
       "      <td>None</td>\n",
       "      <td>None</td>\n",
       "    </tr>\n",
       "    <tr>\n",
       "      <th>4</th>\n",
       "      <td>thought</td>\n",
       "      <td>might</td>\n",
       "      <td>like</td>\n",
       "      <td>slim</td>\n",
       "      <td>guarante</td>\n",
       "      <td>lose</td>\n",
       "      <td>lbs</td>\n",
       "      <td>day</td>\n",
       "      <td>http</td>\n",
       "      <td>fight</td>\n",
       "      <td>...</td>\n",
       "      <td>None</td>\n",
       "      <td>None</td>\n",
       "      <td>None</td>\n",
       "      <td>None</td>\n",
       "      <td>None</td>\n",
       "      <td>None</td>\n",
       "      <td>None</td>\n",
       "      <td>None</td>\n",
       "      <td>None</td>\n",
       "      <td>None</td>\n",
       "    </tr>\n",
       "  </tbody>\n",
       "</table>\n",
       "<p>5 rows × 7671 columns</p>\n",
       "</div>"
      ],
      "text/plain": [
       "      0      1       2      3           4         5       6     7       8     \\\n",
       "0     save   life   insur  spend        life      quot    save     g  famili   \n",
       "1    fight   risk  cancer   http        slim  guarante    lose   lbs     day   \n",
       "2    fight   risk  cancer   http        slim  guarante    lose   lbs     day   \n",
       "3    adult   club   offer   free  membership   instant  access  site    user   \n",
       "4  thought  might    like   slim    guarante      lose     lbs   day    http   \n",
       "\n",
       "      9     ...  7661  7662  7663  7664  7665  7666  7667  7668  7669  7670  \n",
       "0  financi  ...  None  None  None  None  None  None  None  None  None  None  \n",
       "1     http  ...  None  None  None  None  None  None  None  None  None  None  \n",
       "2     http  ...  None  None  None  None  None  None  None  None  None  None  \n",
       "3     name  ...  None  None  None  None  None  None  None  None  None  None  \n",
       "4    fight  ...  None  None  None  None  None  None  None  None  None  None  \n",
       "\n",
       "[5 rows x 7671 columns]"
      ]
     },
     "execution_count": 60,
     "metadata": {},
     "output_type": "execute_result"
    }
   ],
   "source": [
    "word_df = pd.DataFrame.from_records(nest_msg.tolist())\n",
    "word_df.head()"
   ]
  },
  {
   "cell_type": "markdown",
   "id": "3068da36",
   "metadata": {},
   "source": [
    "# Split train  and test set"
   ]
  },
  {
   "cell_type": "code",
   "execution_count": 61,
   "id": "653b85bf",
   "metadata": {},
   "outputs": [],
   "source": [
    "X_train, X_test, y_train, y_test = train_test_split(word_df, data.CATEGORY, test_size=0.3, random_state=42)"
   ]
  },
  {
   "cell_type": "code",
   "execution_count": 62,
   "id": "a12ce638",
   "metadata": {},
   "outputs": [
    {
     "data": {
      "text/plain": [
       "DOC_ID\n",
       "4675    0\n",
       "4220    0\n",
       "2484    0\n",
       "2418    0\n",
       "5110    0\n",
       "Name: CATEGORY, dtype: int64"
      ]
     },
     "execution_count": 62,
     "metadata": {},
     "output_type": "execute_result"
    }
   ],
   "source": [
    "X_train.index.name = X_test.index.name = 'DOC_ID'\n",
    "y_test.head()"
   ]
  },
  {
   "cell_type": "code",
   "execution_count": 63,
   "id": "fa80966c",
   "metadata": {},
   "outputs": [],
   "source": [
    "def make_sparce_matrix(df, indexed_words, labels):\n",
    "    nr_rows = df.shape[0]\n",
    "    nr_cols = df.shape[1]\n",
    "    word_set = set(indexed_words)\n",
    "    dict_list = []\n",
    "    for i in range (nr_rows):\n",
    "        for j in range (nr_cols):\n",
    "            word = df.iat[i, j]\n",
    "            if word in word_set:\n",
    "                doc_id = df.index[i]\n",
    "                word_id = indexed_words.get_loc(word)\n",
    "                category = labels.at[doc_id]\n",
    "                item = {'LABEL': category, 'DOC_ID': doc_id, 'OCCURENCE': 1, 'WORD_ID': word_id}\n",
    "                dict_list.append(item)\n",
    "                \n",
    "    return pd.DataFrame(dict_list)"
   ]
  },
  {
   "cell_type": "markdown",
   "id": "2668a9af",
   "metadata": {},
   "source": [
    "# Combine occurances for training data"
   ]
  },
  {
   "cell_type": "code",
   "execution_count": 64,
   "id": "c28bbc76",
   "metadata": {},
   "outputs": [],
   "source": [
    "# %%time \n",
    "# sparce_train_df = make_sparce_matrix(X_train, word_index, y_train) "
   ]
  },
  {
   "cell_type": "code",
   "execution_count": 65,
   "id": "bcd95e80",
   "metadata": {},
   "outputs": [
    {
     "ename": "NameError",
     "evalue": "name 'sparce_train_df' is not defined",
     "output_type": "error",
     "traceback": [
      "\u001b[1;31m---------------------------------------------------------------------------\u001b[0m",
      "\u001b[1;31mNameError\u001b[0m                                 Traceback (most recent call last)",
      "\u001b[1;32m<ipython-input-65-64278d15bd0a>\u001b[0m in \u001b[0;36m<module>\u001b[1;34m\u001b[0m\n\u001b[1;32m----> 1\u001b[1;33m \u001b[0mtrain_grouped\u001b[0m \u001b[1;33m=\u001b[0m \u001b[0msparce_train_df\u001b[0m\u001b[1;33m.\u001b[0m\u001b[0mgroupby\u001b[0m\u001b[1;33m(\u001b[0m\u001b[1;33m[\u001b[0m\u001b[1;34m'DOC_ID'\u001b[0m\u001b[1;33m,\u001b[0m \u001b[1;34m'WORD_ID'\u001b[0m\u001b[1;33m,\u001b[0m \u001b[1;34m'LABEL'\u001b[0m\u001b[1;33m]\u001b[0m\u001b[1;33m)\u001b[0m\u001b[1;33m.\u001b[0m\u001b[0msum\u001b[0m\u001b[1;33m(\u001b[0m\u001b[1;33m)\u001b[0m\u001b[1;33m\u001b[0m\u001b[1;33m\u001b[0m\u001b[0m\n\u001b[0m\u001b[0;32m      2\u001b[0m \u001b[0mtrain_grouped\u001b[0m\u001b[1;33m.\u001b[0m\u001b[0mhead\u001b[0m\u001b[1;33m(\u001b[0m\u001b[1;33m)\u001b[0m\u001b[1;33m\u001b[0m\u001b[1;33m\u001b[0m\u001b[0m\n",
      "\u001b[1;31mNameError\u001b[0m: name 'sparce_train_df' is not defined"
     ]
    }
   ],
   "source": [
    "train_grouped = sparce_train_df.groupby(['DOC_ID', 'WORD_ID', 'LABEL']).sum() \n",
    "train_grouped.head()"
   ]
  },
  {
   "cell_type": "code",
   "execution_count": null,
   "id": "76e3ca74",
   "metadata": {},
   "outputs": [],
   "source": [
    "train_grouped = train_grouped.reset_index()\n",
    "train_grouped.head()"
   ]
  },
  {
   "cell_type": "code",
   "execution_count": null,
   "id": "c6f037af",
   "metadata": {},
   "outputs": [],
   "source": [
    "print(vocab.at[4, 'Vocab_word'])\n",
    "data.MESSAGE[4]"
   ]
  },
  {
   "cell_type": "code",
   "execution_count": null,
   "id": "15ddafc5",
   "metadata": {},
   "outputs": [],
   "source": [
    "np.savetxt(TRAINING_DATA_FILE, train_grouped, fmt='%d')"
   ]
  },
  {
   "cell_type": "markdown",
   "id": "103a41f1",
   "metadata": {},
   "source": [
    "# Combine occurances for testing data"
   ]
  },
  {
   "cell_type": "code",
   "execution_count": null,
   "id": "1c585fdb",
   "metadata": {},
   "outputs": [],
   "source": [
    "# %%time \n",
    "# sparce_test_df = make_sparce_matrix(X_test, word_index, y_test)"
   ]
  },
  {
   "cell_type": "code",
   "execution_count": null,
   "id": "7d67d698",
   "metadata": {},
   "outputs": [],
   "source": [
    "test_grouped = sparce_test_df.groupby(['DOC_ID', 'WORD_ID', 'LABEL']).sum().reset_index()\n",
    "test_grouped.head()"
   ]
  },
  {
   "cell_type": "code",
   "execution_count": null,
   "id": "a2e361ed",
   "metadata": {},
   "outputs": [],
   "source": [
    "np.savetxt(TEST_DATA_FILE, test_grouped, fmt='%d')"
   ]
  },
  {
   "cell_type": "code",
   "execution_count": null,
   "id": "6f129f03",
   "metadata": {},
   "outputs": [],
   "source": []
  }
 ],
 "metadata": {
  "kernelspec": {
   "display_name": "Python 3",
   "language": "python",
   "name": "python3"
  },
  "language_info": {
   "codemirror_mode": {
    "name": "ipython",
    "version": 3
   },
   "file_extension": ".py",
   "mimetype": "text/x-python",
   "name": "python",
   "nbconvert_exporter": "python",
   "pygments_lexer": "ipython3",
   "version": "3.8.8"
  }
 },
 "nbformat": 4,
 "nbformat_minor": 5
}
